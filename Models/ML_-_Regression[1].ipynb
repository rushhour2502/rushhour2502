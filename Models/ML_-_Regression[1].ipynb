{
 "cells": [
  {
   "cell_type": "code",
   "id": "9e8c0c58-5843-4bf2-b674-6c8b24dc9c38",
   "metadata": {
    "ExecuteTime": {
     "end_time": "2025-04-22T00:44:46.913119Z",
     "start_time": "2025-04-22T00:44:43.454272Z"
    }
   },
   "source": [
    "import pandas as pd"
   ],
   "outputs": [],
   "execution_count": 1
  },
  {
   "cell_type": "code",
   "id": "b4c05166-20b7-4e2d-8d87-0fde2e893938",
   "metadata": {
    "ExecuteTime": {
     "end_time": "2025-04-22T00:45:59.616960Z",
     "start_time": "2025-04-22T00:45:59.455580Z"
    }
   },
   "source": [
    "df = pd.read_csv(\"C:/Users/USER/Documents/Schrodinger/Anthony CADD screening/QSAR/1k3a_data_set/DOWNLOAD-Ba0QHaKIaIkJdsKSnvsCm7ajIssQs5bfdY8VAimmHz8=.csv\", delimiter=';')"
   ],
   "outputs": [],
   "execution_count": 3
  },
  {
   "cell_type": "code",
   "id": "aa62d359-d2ae-448c-8f27-4eb43d2116d0",
   "metadata": {
    "ExecuteTime": {
     "end_time": "2025-04-22T00:46:02.527188Z",
     "start_time": "2025-04-22T00:46:02.507326Z"
    }
   },
   "source": [
    "df.columns"
   ],
   "outputs": [
    {
     "data": {
      "text/plain": [
       "Index(['Molecule ChEMBL ID', 'Molecule Name', 'Molecule Max Phase',\n",
       "       'Molecular Weight', '#RO5 Violations', 'AlogP', 'Compound Key',\n",
       "       'Smiles', 'Standard Type', 'Standard Relation', 'Standard Value',\n",
       "       'Standard Units', 'pChEMBL Value', 'Data Validity Comment', 'Comment',\n",
       "       'Uo Units', 'Ligand Efficiency BEI', 'Ligand Efficiency LE',\n",
       "       'Ligand Efficiency LLE', 'Ligand Efficiency SEI', 'Potential Duplicate',\n",
       "       'Assay ChEMBL ID', 'Assay Description', 'Assay Type', 'BAO Format ID',\n",
       "       'BAO Label', 'Assay Organism', 'Assay Tissue ChEMBL ID',\n",
       "       'Assay Tissue Name', 'Assay Cell Type', 'Assay Subcellular Fraction',\n",
       "       'Assay Parameters', 'Assay Variant Accession', 'Assay Variant Mutation',\n",
       "       'Target ChEMBL ID', 'Target Name', 'Target Organism', 'Target Type',\n",
       "       'Document ChEMBL ID', 'Source ID', 'Source Description',\n",
       "       'Document Journal', 'Document Year', 'Cell ChEMBL ID', 'Properties',\n",
       "       'Action Type', 'Standard Text Value', 'Value'],\n",
       "      dtype='object')"
      ]
     },
     "execution_count": 4,
     "metadata": {},
     "output_type": "execute_result"
    }
   ],
   "execution_count": 4
  },
  {
   "cell_type": "code",
   "id": "e1c44e7d-bada-4f84-84c4-a5fb26a5c62e",
   "metadata": {
    "ExecuteTime": {
     "end_time": "2025-04-22T00:46:28.237290Z",
     "start_time": "2025-04-22T00:46:28.225643Z"
    }
   },
   "source": [
    "df_new = df[['Molecule ChEMBL ID','Smiles', 'pChEMBL Value']]"
   ],
   "outputs": [],
   "execution_count": 5
  },
  {
   "cell_type": "markdown",
   "id": "061ee09a-fe83-4091-b8c2-3174454a0954",
   "metadata": {},
   "source": [
    "# Check for empty values\n"
   ]
  },
  {
   "cell_type": "code",
   "id": "c5dd4c81-026e-4ae2-9c4c-c08c6bb20e0c",
   "metadata": {
    "ExecuteTime": {
     "end_time": "2025-04-22T00:46:29.348069Z",
     "start_time": "2025-04-22T00:46:29.324319Z"
    }
   },
   "source": [
    "df_new"
   ],
   "outputs": [
    {
     "data": {
      "text/plain": [
       "     Molecule ChEMBL ID                                             Smiles  \\\n",
       "0         CHEMBL1809054  COc1cc(CN2CCOCC2)ccc1Nc1ncc(Cl)c(-c2cnc3ccccn2...   \n",
       "1         CHEMBL1809056  COc1cc(CC(=O)N2CCOCC2)ccc1Nc1ncc(Cl)c(-c2cnc3c...   \n",
       "2         CHEMBL1809057   COc1cc(C(CO)CO)ccc1Nc1ncc(Cl)c(-c2cnc3ccccn23)n1   \n",
       "3         CHEMBL1809058  COc1cc(N2CC3CNCC(C2)O3)ccc1Nc1ncc(Cl)c(-c2cnc3...   \n",
       "4         CHEMBL1809059  COc1cc(N2CC3CN(CCO)CC(C2)O3)ccc1Nc1ncc(Cl)c(-c...   \n",
       "...                 ...                                                ...   \n",
       "4514      CHEMBL2088100      Cc1cc(CNc2nccc(Nc3cc(CCc4ccccc4)[nH]n3)n2)on1   \n",
       "4515      CHEMBL1614712  Nc1ncnc2c1c(-c1cccc(OCc3ccccc3)c1)cn2[C@H]1C[C...   \n",
       "4516      CHEMBL3652811  COC(=O)c1ccc(Nc2ncc3c(n2)-c2c(nn(C)c2-c2ccccc2...   \n",
       "4517      CHEMBL3263869  COc1ccc(Oc2cc(C)c(-c3csc(NC(=O)c4ccnc(F)c4)n3)...   \n",
       "4518       CHEMBL466397  CCc1cc(Nc2nccc(-c3c(-c4ccc(OC)c(C(=O)Nc5c(F)cc...   \n",
       "\n",
       "      pChEMBL Value  \n",
       "0              7.39  \n",
       "1              6.95  \n",
       "2              7.75  \n",
       "3              8.40  \n",
       "4              8.70  \n",
       "...             ...  \n",
       "4514           4.80  \n",
       "4515           7.70  \n",
       "4516           7.14  \n",
       "4517            NaN  \n",
       "4518            NaN  \n",
       "\n",
       "[4519 rows x 3 columns]"
      ],
      "text/html": [
       "<div>\n",
       "<style scoped>\n",
       "    .dataframe tbody tr th:only-of-type {\n",
       "        vertical-align: middle;\n",
       "    }\n",
       "\n",
       "    .dataframe tbody tr th {\n",
       "        vertical-align: top;\n",
       "    }\n",
       "\n",
       "    .dataframe thead th {\n",
       "        text-align: right;\n",
       "    }\n",
       "</style>\n",
       "<table border=\"1\" class=\"dataframe\">\n",
       "  <thead>\n",
       "    <tr style=\"text-align: right;\">\n",
       "      <th></th>\n",
       "      <th>Molecule ChEMBL ID</th>\n",
       "      <th>Smiles</th>\n",
       "      <th>pChEMBL Value</th>\n",
       "    </tr>\n",
       "  </thead>\n",
       "  <tbody>\n",
       "    <tr>\n",
       "      <th>0</th>\n",
       "      <td>CHEMBL1809054</td>\n",
       "      <td>COc1cc(CN2CCOCC2)ccc1Nc1ncc(Cl)c(-c2cnc3ccccn2...</td>\n",
       "      <td>7.39</td>\n",
       "    </tr>\n",
       "    <tr>\n",
       "      <th>1</th>\n",
       "      <td>CHEMBL1809056</td>\n",
       "      <td>COc1cc(CC(=O)N2CCOCC2)ccc1Nc1ncc(Cl)c(-c2cnc3c...</td>\n",
       "      <td>6.95</td>\n",
       "    </tr>\n",
       "    <tr>\n",
       "      <th>2</th>\n",
       "      <td>CHEMBL1809057</td>\n",
       "      <td>COc1cc(C(CO)CO)ccc1Nc1ncc(Cl)c(-c2cnc3ccccn23)n1</td>\n",
       "      <td>7.75</td>\n",
       "    </tr>\n",
       "    <tr>\n",
       "      <th>3</th>\n",
       "      <td>CHEMBL1809058</td>\n",
       "      <td>COc1cc(N2CC3CNCC(C2)O3)ccc1Nc1ncc(Cl)c(-c2cnc3...</td>\n",
       "      <td>8.40</td>\n",
       "    </tr>\n",
       "    <tr>\n",
       "      <th>4</th>\n",
       "      <td>CHEMBL1809059</td>\n",
       "      <td>COc1cc(N2CC3CN(CCO)CC(C2)O3)ccc1Nc1ncc(Cl)c(-c...</td>\n",
       "      <td>8.70</td>\n",
       "    </tr>\n",
       "    <tr>\n",
       "      <th>...</th>\n",
       "      <td>...</td>\n",
       "      <td>...</td>\n",
       "      <td>...</td>\n",
       "    </tr>\n",
       "    <tr>\n",
       "      <th>4514</th>\n",
       "      <td>CHEMBL2088100</td>\n",
       "      <td>Cc1cc(CNc2nccc(Nc3cc(CCc4ccccc4)[nH]n3)n2)on1</td>\n",
       "      <td>4.80</td>\n",
       "    </tr>\n",
       "    <tr>\n",
       "      <th>4515</th>\n",
       "      <td>CHEMBL1614712</td>\n",
       "      <td>Nc1ncnc2c1c(-c1cccc(OCc3ccccc3)c1)cn2[C@H]1C[C...</td>\n",
       "      <td>7.70</td>\n",
       "    </tr>\n",
       "    <tr>\n",
       "      <th>4516</th>\n",
       "      <td>CHEMBL3652811</td>\n",
       "      <td>COC(=O)c1ccc(Nc2ncc3c(n2)-c2c(nn(C)c2-c2ccccc2...</td>\n",
       "      <td>7.14</td>\n",
       "    </tr>\n",
       "    <tr>\n",
       "      <th>4517</th>\n",
       "      <td>CHEMBL3263869</td>\n",
       "      <td>COc1ccc(Oc2cc(C)c(-c3csc(NC(=O)c4ccnc(F)c4)n3)...</td>\n",
       "      <td>NaN</td>\n",
       "    </tr>\n",
       "    <tr>\n",
       "      <th>4518</th>\n",
       "      <td>CHEMBL466397</td>\n",
       "      <td>CCc1cc(Nc2nccc(-c3c(-c4ccc(OC)c(C(=O)Nc5c(F)cc...</td>\n",
       "      <td>NaN</td>\n",
       "    </tr>\n",
       "  </tbody>\n",
       "</table>\n",
       "<p>4519 rows × 3 columns</p>\n",
       "</div>"
      ]
     },
     "execution_count": 6,
     "metadata": {},
     "output_type": "execute_result"
    }
   ],
   "execution_count": 6
  },
  {
   "cell_type": "code",
   "id": "12af7c4c-8145-4a11-a3d3-f5de1c686138",
   "metadata": {
    "ExecuteTime": {
     "end_time": "2025-04-22T00:46:29.520313Z",
     "start_time": "2025-04-22T00:46:29.489722Z"
    }
   },
   "source": [
    "df_new.isna().sum()"
   ],
   "outputs": [
    {
     "data": {
      "text/plain": [
       "Molecule ChEMBL ID       0\n",
       "Smiles                   0\n",
       "pChEMBL Value         1302\n",
       "dtype: int64"
      ]
     },
     "execution_count": 7,
     "metadata": {},
     "output_type": "execute_result"
    }
   ],
   "execution_count": 7
  },
  {
   "cell_type": "code",
   "id": "e3a751bb-13d5-4129-9ee7-82b1c4a2dddb",
   "metadata": {
    "ExecuteTime": {
     "end_time": "2025-04-22T00:46:29.697715Z",
     "start_time": "2025-04-22T00:46:29.676827Z"
    }
   },
   "source": [
    "df_new = df_new.dropna()"
   ],
   "outputs": [],
   "execution_count": 8
  },
  {
   "cell_type": "code",
   "id": "0d44ddd6-de3f-450a-9f79-8d1317a9d2b3",
   "metadata": {
    "ExecuteTime": {
     "end_time": "2025-04-22T00:46:29.913634Z",
     "start_time": "2025-04-22T00:46:29.886778Z"
    }
   },
   "source": [
    "df_new"
   ],
   "outputs": [
    {
     "data": {
      "text/plain": [
       "     Molecule ChEMBL ID                                             Smiles  \\\n",
       "0         CHEMBL1809054  COc1cc(CN2CCOCC2)ccc1Nc1ncc(Cl)c(-c2cnc3ccccn2...   \n",
       "1         CHEMBL1809056  COc1cc(CC(=O)N2CCOCC2)ccc1Nc1ncc(Cl)c(-c2cnc3c...   \n",
       "2         CHEMBL1809057   COc1cc(C(CO)CO)ccc1Nc1ncc(Cl)c(-c2cnc3ccccn23)n1   \n",
       "3         CHEMBL1809058  COc1cc(N2CC3CNCC(C2)O3)ccc1Nc1ncc(Cl)c(-c2cnc3...   \n",
       "4         CHEMBL1809059  COc1cc(N2CC3CN(CCO)CC(C2)O3)ccc1Nc1ncc(Cl)c(-c...   \n",
       "...                 ...                                                ...   \n",
       "4512       CHEMBL509032  COc1cc(N2CCC(N3CCN(C)CC3)CC2)ccc1Nc1ncc(Cl)c(N...   \n",
       "4513      CHEMBL1091644  C[C@]1(O)C[C@@H](c2nc(-c3ccc4ccc(-c5ccccc5)nc4...   \n",
       "4514      CHEMBL2088100      Cc1cc(CNc2nccc(Nc3cc(CCc4ccccc4)[nH]n3)n2)on1   \n",
       "4515      CHEMBL1614712  Nc1ncnc2c1c(-c1cccc(OCc3ccccc3)c1)cn2[C@H]1C[C...   \n",
       "4516      CHEMBL3652811  COC(=O)c1ccc(Nc2ncc3c(n2)-c2c(nn(C)c2-c2ccccc2...   \n",
       "\n",
       "      pChEMBL Value  \n",
       "0              7.39  \n",
       "1              6.95  \n",
       "2              7.75  \n",
       "3              8.40  \n",
       "4              8.70  \n",
       "...             ...  \n",
       "4512           9.46  \n",
       "4513           7.62  \n",
       "4514           4.80  \n",
       "4515           7.70  \n",
       "4516           7.14  \n",
       "\n",
       "[3217 rows x 3 columns]"
      ],
      "text/html": [
       "<div>\n",
       "<style scoped>\n",
       "    .dataframe tbody tr th:only-of-type {\n",
       "        vertical-align: middle;\n",
       "    }\n",
       "\n",
       "    .dataframe tbody tr th {\n",
       "        vertical-align: top;\n",
       "    }\n",
       "\n",
       "    .dataframe thead th {\n",
       "        text-align: right;\n",
       "    }\n",
       "</style>\n",
       "<table border=\"1\" class=\"dataframe\">\n",
       "  <thead>\n",
       "    <tr style=\"text-align: right;\">\n",
       "      <th></th>\n",
       "      <th>Molecule ChEMBL ID</th>\n",
       "      <th>Smiles</th>\n",
       "      <th>pChEMBL Value</th>\n",
       "    </tr>\n",
       "  </thead>\n",
       "  <tbody>\n",
       "    <tr>\n",
       "      <th>0</th>\n",
       "      <td>CHEMBL1809054</td>\n",
       "      <td>COc1cc(CN2CCOCC2)ccc1Nc1ncc(Cl)c(-c2cnc3ccccn2...</td>\n",
       "      <td>7.39</td>\n",
       "    </tr>\n",
       "    <tr>\n",
       "      <th>1</th>\n",
       "      <td>CHEMBL1809056</td>\n",
       "      <td>COc1cc(CC(=O)N2CCOCC2)ccc1Nc1ncc(Cl)c(-c2cnc3c...</td>\n",
       "      <td>6.95</td>\n",
       "    </tr>\n",
       "    <tr>\n",
       "      <th>2</th>\n",
       "      <td>CHEMBL1809057</td>\n",
       "      <td>COc1cc(C(CO)CO)ccc1Nc1ncc(Cl)c(-c2cnc3ccccn23)n1</td>\n",
       "      <td>7.75</td>\n",
       "    </tr>\n",
       "    <tr>\n",
       "      <th>3</th>\n",
       "      <td>CHEMBL1809058</td>\n",
       "      <td>COc1cc(N2CC3CNCC(C2)O3)ccc1Nc1ncc(Cl)c(-c2cnc3...</td>\n",
       "      <td>8.40</td>\n",
       "    </tr>\n",
       "    <tr>\n",
       "      <th>4</th>\n",
       "      <td>CHEMBL1809059</td>\n",
       "      <td>COc1cc(N2CC3CN(CCO)CC(C2)O3)ccc1Nc1ncc(Cl)c(-c...</td>\n",
       "      <td>8.70</td>\n",
       "    </tr>\n",
       "    <tr>\n",
       "      <th>...</th>\n",
       "      <td>...</td>\n",
       "      <td>...</td>\n",
       "      <td>...</td>\n",
       "    </tr>\n",
       "    <tr>\n",
       "      <th>4512</th>\n",
       "      <td>CHEMBL509032</td>\n",
       "      <td>COc1cc(N2CCC(N3CCN(C)CC3)CC2)ccc1Nc1ncc(Cl)c(N...</td>\n",
       "      <td>9.46</td>\n",
       "    </tr>\n",
       "    <tr>\n",
       "      <th>4513</th>\n",
       "      <td>CHEMBL1091644</td>\n",
       "      <td>C[C@]1(O)C[C@@H](c2nc(-c3ccc4ccc(-c5ccccc5)nc4...</td>\n",
       "      <td>7.62</td>\n",
       "    </tr>\n",
       "    <tr>\n",
       "      <th>4514</th>\n",
       "      <td>CHEMBL2088100</td>\n",
       "      <td>Cc1cc(CNc2nccc(Nc3cc(CCc4ccccc4)[nH]n3)n2)on1</td>\n",
       "      <td>4.80</td>\n",
       "    </tr>\n",
       "    <tr>\n",
       "      <th>4515</th>\n",
       "      <td>CHEMBL1614712</td>\n",
       "      <td>Nc1ncnc2c1c(-c1cccc(OCc3ccccc3)c1)cn2[C@H]1C[C...</td>\n",
       "      <td>7.70</td>\n",
       "    </tr>\n",
       "    <tr>\n",
       "      <th>4516</th>\n",
       "      <td>CHEMBL3652811</td>\n",
       "      <td>COC(=O)c1ccc(Nc2ncc3c(n2)-c2c(nn(C)c2-c2ccccc2...</td>\n",
       "      <td>7.14</td>\n",
       "    </tr>\n",
       "  </tbody>\n",
       "</table>\n",
       "<p>3217 rows × 3 columns</p>\n",
       "</div>"
      ]
     },
     "execution_count": 9,
     "metadata": {},
     "output_type": "execute_result"
    }
   ],
   "execution_count": 9
  },
  {
   "cell_type": "code",
   "id": "995eb098-4ab0-476a-8e38-d64b231dca92",
   "metadata": {
    "ExecuteTime": {
     "end_time": "2025-04-22T00:46:30.365894Z",
     "start_time": "2025-04-22T00:46:30.347411Z"
    }
   },
   "source": [
    "df_new = df_new.reset_index()"
   ],
   "outputs": [],
   "execution_count": 10
  },
  {
   "cell_type": "code",
   "id": "04ded0f9-e78f-4b4a-a438-41314fcd7594",
   "metadata": {
    "ExecuteTime": {
     "end_time": "2025-04-22T00:46:30.508741Z",
     "start_time": "2025-04-22T00:46:30.478848Z"
    }
   },
   "source": [
    "df_new"
   ],
   "outputs": [
    {
     "data": {
      "text/plain": [
       "      index Molecule ChEMBL ID  \\\n",
       "0         0      CHEMBL1809054   \n",
       "1         1      CHEMBL1809056   \n",
       "2         2      CHEMBL1809057   \n",
       "3         3      CHEMBL1809058   \n",
       "4         4      CHEMBL1809059   \n",
       "...     ...                ...   \n",
       "3212   4512       CHEMBL509032   \n",
       "3213   4513      CHEMBL1091644   \n",
       "3214   4514      CHEMBL2088100   \n",
       "3215   4515      CHEMBL1614712   \n",
       "3216   4516      CHEMBL3652811   \n",
       "\n",
       "                                                 Smiles  pChEMBL Value  \n",
       "0     COc1cc(CN2CCOCC2)ccc1Nc1ncc(Cl)c(-c2cnc3ccccn2...           7.39  \n",
       "1     COc1cc(CC(=O)N2CCOCC2)ccc1Nc1ncc(Cl)c(-c2cnc3c...           6.95  \n",
       "2      COc1cc(C(CO)CO)ccc1Nc1ncc(Cl)c(-c2cnc3ccccn23)n1           7.75  \n",
       "3     COc1cc(N2CC3CNCC(C2)O3)ccc1Nc1ncc(Cl)c(-c2cnc3...           8.40  \n",
       "4     COc1cc(N2CC3CN(CCO)CC(C2)O3)ccc1Nc1ncc(Cl)c(-c...           8.70  \n",
       "...                                                 ...            ...  \n",
       "3212  COc1cc(N2CCC(N3CCN(C)CC3)CC2)ccc1Nc1ncc(Cl)c(N...           9.46  \n",
       "3213  C[C@]1(O)C[C@@H](c2nc(-c3ccc4ccc(-c5ccccc5)nc4...           7.62  \n",
       "3214      Cc1cc(CNc2nccc(Nc3cc(CCc4ccccc4)[nH]n3)n2)on1           4.80  \n",
       "3215  Nc1ncnc2c1c(-c1cccc(OCc3ccccc3)c1)cn2[C@H]1C[C...           7.70  \n",
       "3216  COC(=O)c1ccc(Nc2ncc3c(n2)-c2c(nn(C)c2-c2ccccc2...           7.14  \n",
       "\n",
       "[3217 rows x 4 columns]"
      ],
      "text/html": [
       "<div>\n",
       "<style scoped>\n",
       "    .dataframe tbody tr th:only-of-type {\n",
       "        vertical-align: middle;\n",
       "    }\n",
       "\n",
       "    .dataframe tbody tr th {\n",
       "        vertical-align: top;\n",
       "    }\n",
       "\n",
       "    .dataframe thead th {\n",
       "        text-align: right;\n",
       "    }\n",
       "</style>\n",
       "<table border=\"1\" class=\"dataframe\">\n",
       "  <thead>\n",
       "    <tr style=\"text-align: right;\">\n",
       "      <th></th>\n",
       "      <th>index</th>\n",
       "      <th>Molecule ChEMBL ID</th>\n",
       "      <th>Smiles</th>\n",
       "      <th>pChEMBL Value</th>\n",
       "    </tr>\n",
       "  </thead>\n",
       "  <tbody>\n",
       "    <tr>\n",
       "      <th>0</th>\n",
       "      <td>0</td>\n",
       "      <td>CHEMBL1809054</td>\n",
       "      <td>COc1cc(CN2CCOCC2)ccc1Nc1ncc(Cl)c(-c2cnc3ccccn2...</td>\n",
       "      <td>7.39</td>\n",
       "    </tr>\n",
       "    <tr>\n",
       "      <th>1</th>\n",
       "      <td>1</td>\n",
       "      <td>CHEMBL1809056</td>\n",
       "      <td>COc1cc(CC(=O)N2CCOCC2)ccc1Nc1ncc(Cl)c(-c2cnc3c...</td>\n",
       "      <td>6.95</td>\n",
       "    </tr>\n",
       "    <tr>\n",
       "      <th>2</th>\n",
       "      <td>2</td>\n",
       "      <td>CHEMBL1809057</td>\n",
       "      <td>COc1cc(C(CO)CO)ccc1Nc1ncc(Cl)c(-c2cnc3ccccn23)n1</td>\n",
       "      <td>7.75</td>\n",
       "    </tr>\n",
       "    <tr>\n",
       "      <th>3</th>\n",
       "      <td>3</td>\n",
       "      <td>CHEMBL1809058</td>\n",
       "      <td>COc1cc(N2CC3CNCC(C2)O3)ccc1Nc1ncc(Cl)c(-c2cnc3...</td>\n",
       "      <td>8.40</td>\n",
       "    </tr>\n",
       "    <tr>\n",
       "      <th>4</th>\n",
       "      <td>4</td>\n",
       "      <td>CHEMBL1809059</td>\n",
       "      <td>COc1cc(N2CC3CN(CCO)CC(C2)O3)ccc1Nc1ncc(Cl)c(-c...</td>\n",
       "      <td>8.70</td>\n",
       "    </tr>\n",
       "    <tr>\n",
       "      <th>...</th>\n",
       "      <td>...</td>\n",
       "      <td>...</td>\n",
       "      <td>...</td>\n",
       "      <td>...</td>\n",
       "    </tr>\n",
       "    <tr>\n",
       "      <th>3212</th>\n",
       "      <td>4512</td>\n",
       "      <td>CHEMBL509032</td>\n",
       "      <td>COc1cc(N2CCC(N3CCN(C)CC3)CC2)ccc1Nc1ncc(Cl)c(N...</td>\n",
       "      <td>9.46</td>\n",
       "    </tr>\n",
       "    <tr>\n",
       "      <th>3213</th>\n",
       "      <td>4513</td>\n",
       "      <td>CHEMBL1091644</td>\n",
       "      <td>C[C@]1(O)C[C@@H](c2nc(-c3ccc4ccc(-c5ccccc5)nc4...</td>\n",
       "      <td>7.62</td>\n",
       "    </tr>\n",
       "    <tr>\n",
       "      <th>3214</th>\n",
       "      <td>4514</td>\n",
       "      <td>CHEMBL2088100</td>\n",
       "      <td>Cc1cc(CNc2nccc(Nc3cc(CCc4ccccc4)[nH]n3)n2)on1</td>\n",
       "      <td>4.80</td>\n",
       "    </tr>\n",
       "    <tr>\n",
       "      <th>3215</th>\n",
       "      <td>4515</td>\n",
       "      <td>CHEMBL1614712</td>\n",
       "      <td>Nc1ncnc2c1c(-c1cccc(OCc3ccccc3)c1)cn2[C@H]1C[C...</td>\n",
       "      <td>7.70</td>\n",
       "    </tr>\n",
       "    <tr>\n",
       "      <th>3216</th>\n",
       "      <td>4516</td>\n",
       "      <td>CHEMBL3652811</td>\n",
       "      <td>COC(=O)c1ccc(Nc2ncc3c(n2)-c2c(nn(C)c2-c2ccccc2...</td>\n",
       "      <td>7.14</td>\n",
       "    </tr>\n",
       "  </tbody>\n",
       "</table>\n",
       "<p>3217 rows × 4 columns</p>\n",
       "</div>"
      ]
     },
     "execution_count": 11,
     "metadata": {},
     "output_type": "execute_result"
    }
   ],
   "execution_count": 11
  },
  {
   "cell_type": "code",
   "id": "c36572f7-7717-4aad-8b39-edb80907e24a",
   "metadata": {
    "ExecuteTime": {
     "end_time": "2025-04-22T00:46:30.656373Z",
     "start_time": "2025-04-22T00:46:30.648896Z"
    }
   },
   "source": [
    "df_new = df_new.drop(columns=['index'])"
   ],
   "outputs": [],
   "execution_count": 12
  },
  {
   "cell_type": "code",
   "id": "b30254c9-168f-4f2c-8f04-4abf3a6dc2ab",
   "metadata": {
    "ExecuteTime": {
     "end_time": "2025-04-22T00:46:30.850693Z",
     "start_time": "2025-04-22T00:46:30.818777Z"
    }
   },
   "source": [
    "df_new"
   ],
   "outputs": [
    {
     "data": {
      "text/plain": [
       "     Molecule ChEMBL ID                                             Smiles  \\\n",
       "0         CHEMBL1809054  COc1cc(CN2CCOCC2)ccc1Nc1ncc(Cl)c(-c2cnc3ccccn2...   \n",
       "1         CHEMBL1809056  COc1cc(CC(=O)N2CCOCC2)ccc1Nc1ncc(Cl)c(-c2cnc3c...   \n",
       "2         CHEMBL1809057   COc1cc(C(CO)CO)ccc1Nc1ncc(Cl)c(-c2cnc3ccccn23)n1   \n",
       "3         CHEMBL1809058  COc1cc(N2CC3CNCC(C2)O3)ccc1Nc1ncc(Cl)c(-c2cnc3...   \n",
       "4         CHEMBL1809059  COc1cc(N2CC3CN(CCO)CC(C2)O3)ccc1Nc1ncc(Cl)c(-c...   \n",
       "...                 ...                                                ...   \n",
       "3212       CHEMBL509032  COc1cc(N2CCC(N3CCN(C)CC3)CC2)ccc1Nc1ncc(Cl)c(N...   \n",
       "3213      CHEMBL1091644  C[C@]1(O)C[C@@H](c2nc(-c3ccc4ccc(-c5ccccc5)nc4...   \n",
       "3214      CHEMBL2088100      Cc1cc(CNc2nccc(Nc3cc(CCc4ccccc4)[nH]n3)n2)on1   \n",
       "3215      CHEMBL1614712  Nc1ncnc2c1c(-c1cccc(OCc3ccccc3)c1)cn2[C@H]1C[C...   \n",
       "3216      CHEMBL3652811  COC(=O)c1ccc(Nc2ncc3c(n2)-c2c(nn(C)c2-c2ccccc2...   \n",
       "\n",
       "      pChEMBL Value  \n",
       "0              7.39  \n",
       "1              6.95  \n",
       "2              7.75  \n",
       "3              8.40  \n",
       "4              8.70  \n",
       "...             ...  \n",
       "3212           9.46  \n",
       "3213           7.62  \n",
       "3214           4.80  \n",
       "3215           7.70  \n",
       "3216           7.14  \n",
       "\n",
       "[3217 rows x 3 columns]"
      ],
      "text/html": [
       "<div>\n",
       "<style scoped>\n",
       "    .dataframe tbody tr th:only-of-type {\n",
       "        vertical-align: middle;\n",
       "    }\n",
       "\n",
       "    .dataframe tbody tr th {\n",
       "        vertical-align: top;\n",
       "    }\n",
       "\n",
       "    .dataframe thead th {\n",
       "        text-align: right;\n",
       "    }\n",
       "</style>\n",
       "<table border=\"1\" class=\"dataframe\">\n",
       "  <thead>\n",
       "    <tr style=\"text-align: right;\">\n",
       "      <th></th>\n",
       "      <th>Molecule ChEMBL ID</th>\n",
       "      <th>Smiles</th>\n",
       "      <th>pChEMBL Value</th>\n",
       "    </tr>\n",
       "  </thead>\n",
       "  <tbody>\n",
       "    <tr>\n",
       "      <th>0</th>\n",
       "      <td>CHEMBL1809054</td>\n",
       "      <td>COc1cc(CN2CCOCC2)ccc1Nc1ncc(Cl)c(-c2cnc3ccccn2...</td>\n",
       "      <td>7.39</td>\n",
       "    </tr>\n",
       "    <tr>\n",
       "      <th>1</th>\n",
       "      <td>CHEMBL1809056</td>\n",
       "      <td>COc1cc(CC(=O)N2CCOCC2)ccc1Nc1ncc(Cl)c(-c2cnc3c...</td>\n",
       "      <td>6.95</td>\n",
       "    </tr>\n",
       "    <tr>\n",
       "      <th>2</th>\n",
       "      <td>CHEMBL1809057</td>\n",
       "      <td>COc1cc(C(CO)CO)ccc1Nc1ncc(Cl)c(-c2cnc3ccccn23)n1</td>\n",
       "      <td>7.75</td>\n",
       "    </tr>\n",
       "    <tr>\n",
       "      <th>3</th>\n",
       "      <td>CHEMBL1809058</td>\n",
       "      <td>COc1cc(N2CC3CNCC(C2)O3)ccc1Nc1ncc(Cl)c(-c2cnc3...</td>\n",
       "      <td>8.40</td>\n",
       "    </tr>\n",
       "    <tr>\n",
       "      <th>4</th>\n",
       "      <td>CHEMBL1809059</td>\n",
       "      <td>COc1cc(N2CC3CN(CCO)CC(C2)O3)ccc1Nc1ncc(Cl)c(-c...</td>\n",
       "      <td>8.70</td>\n",
       "    </tr>\n",
       "    <tr>\n",
       "      <th>...</th>\n",
       "      <td>...</td>\n",
       "      <td>...</td>\n",
       "      <td>...</td>\n",
       "    </tr>\n",
       "    <tr>\n",
       "      <th>3212</th>\n",
       "      <td>CHEMBL509032</td>\n",
       "      <td>COc1cc(N2CCC(N3CCN(C)CC3)CC2)ccc1Nc1ncc(Cl)c(N...</td>\n",
       "      <td>9.46</td>\n",
       "    </tr>\n",
       "    <tr>\n",
       "      <th>3213</th>\n",
       "      <td>CHEMBL1091644</td>\n",
       "      <td>C[C@]1(O)C[C@@H](c2nc(-c3ccc4ccc(-c5ccccc5)nc4...</td>\n",
       "      <td>7.62</td>\n",
       "    </tr>\n",
       "    <tr>\n",
       "      <th>3214</th>\n",
       "      <td>CHEMBL2088100</td>\n",
       "      <td>Cc1cc(CNc2nccc(Nc3cc(CCc4ccccc4)[nH]n3)n2)on1</td>\n",
       "      <td>4.80</td>\n",
       "    </tr>\n",
       "    <tr>\n",
       "      <th>3215</th>\n",
       "      <td>CHEMBL1614712</td>\n",
       "      <td>Nc1ncnc2c1c(-c1cccc(OCc3ccccc3)c1)cn2[C@H]1C[C...</td>\n",
       "      <td>7.70</td>\n",
       "    </tr>\n",
       "    <tr>\n",
       "      <th>3216</th>\n",
       "      <td>CHEMBL3652811</td>\n",
       "      <td>COC(=O)c1ccc(Nc2ncc3c(n2)-c2c(nn(C)c2-c2ccccc2...</td>\n",
       "      <td>7.14</td>\n",
       "    </tr>\n",
       "  </tbody>\n",
       "</table>\n",
       "<p>3217 rows × 3 columns</p>\n",
       "</div>"
      ]
     },
     "execution_count": 13,
     "metadata": {},
     "output_type": "execute_result"
    }
   ],
   "execution_count": 13
  },
  {
   "cell_type": "code",
   "id": "f66e8848-54fe-4649-b1e8-ee416f2f06e9",
   "metadata": {
    "ExecuteTime": {
     "end_time": "2025-04-22T00:46:31.152833Z",
     "start_time": "2025-04-22T00:46:31.137485Z"
    }
   },
   "source": [
    "df_new.isna().sum().sum()\n"
   ],
   "outputs": [
    {
     "data": {
      "text/plain": [
       "np.int64(0)"
      ]
     },
     "execution_count": 14,
     "metadata": {},
     "output_type": "execute_result"
    }
   ],
   "execution_count": 14
  },
  {
   "cell_type": "markdown",
   "id": "1ab69f5f-8cf6-49b1-bbc1-82a63efec385",
   "metadata": {},
   "source": [
    "# Generate our descriptors - We will use descriptors here and fingerprints in classification"
   ]
  },
  {
   "cell_type": "code",
   "id": "4e7dad17-7f80-4b84-8f9d-53b034dddc84",
   "metadata": {
    "ExecuteTime": {
     "end_time": "2025-04-22T00:50:09.999156Z",
     "start_time": "2025-04-22T00:50:07.079798Z"
    }
   },
   "source": [
    "\n",
    "import numpy as np\n",
    "import pandas as pd\n",
    "import rdkit as rk\n",
    "from rdkit import Chem \n",
    "from rdkit.Chem.Draw import IPythonConsole\n",
    "from rdkit.Chem import Draw\n",
    "from rdkit.Chem import Descriptors\n",
    "from rdkit.ML.Descriptors import MoleculeDescriptors"
   ],
   "outputs": [],
   "execution_count": 25
  },
  {
   "cell_type": "code",
   "id": "47ea62e0",
   "metadata": {
    "ExecuteTime": {
     "end_time": "2025-04-22T00:50:16.834468Z",
     "start_time": "2025-04-22T00:50:16.766429Z"
    }
   },
   "source": [
    "Chem.MolFromSmiles(\"C[C@H](Cc(c1c(c(C(N[C@@H](Cc2ccccc2)C(O)=O)=O)c2)O)c2Cl)OC1=O\")"
   ],
   "outputs": [
    {
     "data": {
      "text/plain": [
       "<rdkit.Chem.rdchem.Mol at 0x25f4955ace0>"
      ],
      "image/png": "[encoded data removed]"
     },
     "execution_count": 26,
     "metadata": {},
     "output_type": "execute_result"
    }
   ],
   "execution_count": 26
  },
  {
   "cell_type": "code",
   "id": "97f1c914-c7e7-4740-84c2-7ffbcbd583e3",
   "metadata": {
    "ExecuteTime": {
     "end_time": "2025-04-22T00:50:34.893100Z",
     "start_time": "2025-04-22T00:50:30.272372Z"
    }
   },
   "source": [
    "#Create a RDkit molecule instance for each smiles\n",
    "df_new['Molecule'] = df_new['Smiles'].apply(Chem.MolFromSmiles)\n",
    "\n",
    "df_new"
   ],
   "outputs": [
    {
     "data": {
      "text/plain": [
       "     Molecule ChEMBL ID                                             Smiles  \\\n",
       "0         CHEMBL1809054  COc1cc(CN2CCOCC2)ccc1Nc1ncc(Cl)c(-c2cnc3ccccn2...   \n",
       "1         CHEMBL1809056  COc1cc(CC(=O)N2CCOCC2)ccc1Nc1ncc(Cl)c(-c2cnc3c...   \n",
       "2         CHEMBL1809057   COc1cc(C(CO)CO)ccc1Nc1ncc(Cl)c(-c2cnc3ccccn23)n1   \n",
       "3         CHEMBL1809058  COc1cc(N2CC3CNCC(C2)O3)ccc1Nc1ncc(Cl)c(-c2cnc3...   \n",
       "4         CHEMBL1809059  COc1cc(N2CC3CN(CCO)CC(C2)O3)ccc1Nc1ncc(Cl)c(-c...   \n",
       "...                 ...                                                ...   \n",
       "3212       CHEMBL509032  COc1cc(N2CCC(N3CCN(C)CC3)CC2)ccc1Nc1ncc(Cl)c(N...   \n",
       "3213      CHEMBL1091644  C[C@]1(O)C[C@@H](c2nc(-c3ccc4ccc(-c5ccccc5)nc4...   \n",
       "3214      CHEMBL2088100      Cc1cc(CNc2nccc(Nc3cc(CCc4ccccc4)[nH]n3)n2)on1   \n",
       "3215      CHEMBL1614712  Nc1ncnc2c1c(-c1cccc(OCc3ccccc3)c1)cn2[C@H]1C[C...   \n",
       "3216      CHEMBL3652811  COC(=O)c1ccc(Nc2ncc3c(n2)-c2c(nn(C)c2-c2ccccc2...   \n",
       "\n",
       "      pChEMBL Value                                           Molecule  \n",
       "0              7.39  <rdkit.Chem.rdchem.Mol object at 0x0000025F495...  \n",
       "1              6.95  <rdkit.Chem.rdchem.Mol object at 0x0000025F495...  \n",
       "2              7.75  <rdkit.Chem.rdchem.Mol object at 0x0000025F495...  \n",
       "3              8.40  <rdkit.Chem.rdchem.Mol object at 0x0000025F495...  \n",
       "4              8.70  <rdkit.Chem.rdchem.Mol object at 0x0000025F495...  \n",
       "...             ...                                                ...  \n",
       "3212           9.46  <rdkit.Chem.rdchem.Mol object at 0x0000025F4F5...  \n",
       "3213           7.62  <rdkit.Chem.rdchem.Mol object at 0x0000025F4F5...  \n",
       "3214           4.80  <rdkit.Chem.rdchem.Mol object at 0x0000025F4F5...  \n",
       "3215           7.70  <rdkit.Chem.rdchem.Mol object at 0x0000025F4F5...  \n",
       "3216           7.14  <rdkit.Chem.rdchem.Mol object at 0x0000025F4F5...  \n",
       "\n",
       "[3217 rows x 4 columns]"
      ],
      "text/html": [
       "<div>\n",
       "<style scoped>\n",
       "    .dataframe tbody tr th:only-of-type {\n",
       "        vertical-align: middle;\n",
       "    }\n",
       "\n",
       "    .dataframe tbody tr th {\n",
       "        vertical-align: top;\n",
       "    }\n",
       "\n",
       "    .dataframe thead th {\n",
       "        text-align: right;\n",
       "    }\n",
       "</style>\n",
       "<table border=\"1\" class=\"dataframe\">\n",
       "  <thead>\n",
       "    <tr style=\"text-align: right;\">\n",
       "      <th></th>\n",
       "      <th>Molecule ChEMBL ID</th>\n",
       "      <th>Smiles</th>\n",
       "      <th>pChEMBL Value</th>\n",
       "      <th>Molecule</th>\n",
       "    </tr>\n",
       "  </thead>\n",
       "  <tbody>\n",
       "    <tr>\n",
       "      <th>0</th>\n",
       "      <td>CHEMBL1809054</td>\n",
       "      <td>COc1cc(CN2CCOCC2)ccc1Nc1ncc(Cl)c(-c2cnc3ccccn2...</td>\n",
       "      <td>7.39</td>\n",
       "      <td>&lt;rdkit.Chem.rdchem.Mol object at 0x0000025F495...</td>\n",
       "    </tr>\n",
       "    <tr>\n",
       "      <th>1</th>\n",
       "      <td>CHEMBL1809056</td>\n",
       "      <td>COc1cc(CC(=O)N2CCOCC2)ccc1Nc1ncc(Cl)c(-c2cnc3c...</td>\n",
       "      <td>6.95</td>\n",
       "      <td>&lt;rdkit.Chem.rdchem.Mol object at 0x0000025F495...</td>\n",
       "    </tr>\n",
       "    <tr>\n",
       "      <th>2</th>\n",
       "      <td>CHEMBL1809057</td>\n",
       "      <td>COc1cc(C(CO)CO)ccc1Nc1ncc(Cl)c(-c2cnc3ccccn23)n1</td>\n",
       "      <td>7.75</td>\n",
       "      <td>&lt;rdkit.Chem.rdchem.Mol object at 0x0000025F495...</td>\n",
       "    </tr>\n",
       "    <tr>\n",
       "      <th>3</th>\n",
       "      <td>CHEMBL1809058</td>\n",
       "      <td>COc1cc(N2CC3CNCC(C2)O3)ccc1Nc1ncc(Cl)c(-c2cnc3...</td>\n",
       "      <td>8.40</td>\n",
       "      <td>&lt;rdkit.Chem.rdchem.Mol object at 0x0000025F495...</td>\n",
       "    </tr>\n",
       "    <tr>\n",
       "      <th>4</th>\n",
       "      <td>CHEMBL1809059</td>\n",
       "      <td>COc1cc(N2CC3CN(CCO)CC(C2)O3)ccc1Nc1ncc(Cl)c(-c...</td>\n",
       "      <td>8.70</td>\n",
       "      <td>&lt;rdkit.Chem.rdchem.Mol object at 0x0000025F495...</td>\n",
       "    </tr>\n",
       "    <tr>\n",
       "      <th>...</th>\n",
       "      <td>...</td>\n",
       "      <td>...</td>\n",
       "      <td>...</td>\n",
       "      <td>...</td>\n",
       "    </tr>\n",
       "    <tr>\n",
       "      <th>3212</th>\n",
       "      <td>CHEMBL509032</td>\n",
       "      <td>COc1cc(N2CCC(N3CCN(C)CC3)CC2)ccc1Nc1ncc(Cl)c(N...</td>\n",
       "      <td>9.46</td>\n",
       "      <td>&lt;rdkit.Chem.rdchem.Mol object at 0x0000025F4F5...</td>\n",
       "    </tr>\n",
       "    <tr>\n",
       "      <th>3213</th>\n",
       "      <td>CHEMBL1091644</td>\n",
       "      <td>C[C@]1(O)C[C@@H](c2nc(-c3ccc4ccc(-c5ccccc5)nc4...</td>\n",
       "      <td>7.62</td>\n",
       "      <td>&lt;rdkit.Chem.rdchem.Mol object at 0x0000025F4F5...</td>\n",
       "    </tr>\n",
       "    <tr>\n",
       "      <th>3214</th>\n",
       "      <td>CHEMBL2088100</td>\n",
       "      <td>Cc1cc(CNc2nccc(Nc3cc(CCc4ccccc4)[nH]n3)n2)on1</td>\n",
       "      <td>4.80</td>\n",
       "      <td>&lt;rdkit.Chem.rdchem.Mol object at 0x0000025F4F5...</td>\n",
       "    </tr>\n",
       "    <tr>\n",
       "      <th>3215</th>\n",
       "      <td>CHEMBL1614712</td>\n",
       "      <td>Nc1ncnc2c1c(-c1cccc(OCc3ccccc3)c1)cn2[C@H]1C[C...</td>\n",
       "      <td>7.70</td>\n",
       "      <td>&lt;rdkit.Chem.rdchem.Mol object at 0x0000025F4F5...</td>\n",
       "    </tr>\n",
       "    <tr>\n",
       "      <th>3216</th>\n",
       "      <td>CHEMBL3652811</td>\n",
       "      <td>COC(=O)c1ccc(Nc2ncc3c(n2)-c2c(nn(C)c2-c2ccccc2...</td>\n",
       "      <td>7.14</td>\n",
       "      <td>&lt;rdkit.Chem.rdchem.Mol object at 0x0000025F4F5...</td>\n",
       "    </tr>\n",
       "  </tbody>\n",
       "</table>\n",
       "<p>3217 rows × 4 columns</p>\n",
       "</div>"
      ]
     },
     "execution_count": 27,
     "metadata": {},
     "output_type": "execute_result"
    }
   ],
   "execution_count": 27
  },
  {
   "cell_type": "code",
   "id": "adb546d1-093a-4765-a720-34a86a1cdeb7",
   "metadata": {
    "ExecuteTime": {
     "end_time": "2025-04-22T00:50:36.291855Z",
     "start_time": "2025-04-22T00:50:36.276500Z"
    }
   },
   "source": [
    "#Length of descriptors from RDKit\n",
    "des_list = [x[0] for x in Descriptors._descList]\n",
    "len(des_list)"
   ],
   "outputs": [
    {
     "data": {
      "text/plain": [
       "217"
      ]
     },
     "execution_count": 28,
     "metadata": {},
     "output_type": "execute_result"
    }
   ],
   "execution_count": 28
  },
  {
   "cell_type": "code",
   "id": "b23c08c4-24b8-44a5-bbda-15476349548e",
   "metadata": {
    "ExecuteTime": {
     "end_time": "2025-04-22T00:50:36.464731Z",
     "start_time": "2025-04-22T00:50:36.426479Z"
    }
   },
   "source": [
    "des_list   "
   ],
   "outputs": [
    {
     "data": {
      "text/plain": [
       "['MaxAbsEStateIndex',\n",
       " 'MaxEStateIndex',\n",
       " 'MinAbsEStateIndex',\n",
       " 'MinEStateIndex',\n",
       " 'qed',\n",
       " 'SPS',\n",
       " 'MolWt',\n",
       " 'HeavyAtomMolWt',\n",
       " 'ExactMolWt',\n",
       " 'NumValenceElectrons',\n",
       " 'NumRadicalElectrons',\n",
       " 'MaxPartialCharge',\n",
       " 'MinPartialCharge',\n",
       " 'MaxAbsPartialCharge',\n",
       " 'MinAbsPartialCharge',\n",
       " 'FpDensityMorgan1',\n",
       " 'FpDensityMorgan2',\n",
       " 'FpDensityMorgan3',\n",
       " 'BCUT2D_MWHI',\n",
       " 'BCUT2D_MWLOW',\n",
       " 'BCUT2D_CHGHI',\n",
       " 'BCUT2D_CHGLO',\n",
       " 'BCUT2D_LOGPHI',\n",
       " 'BCUT2D_LOGPLOW',\n",
       " 'BCUT2D_MRHI',\n",
       " 'BCUT2D_MRLOW',\n",
       " 'AvgIpc',\n",
       " 'BalabanJ',\n",
       " 'BertzCT',\n",
       " 'Chi0',\n",
       " 'Chi0n',\n",
       " 'Chi0v',\n",
       " 'Chi1',\n",
       " 'Chi1n',\n",
       " 'Chi1v',\n",
       " 'Chi2n',\n",
       " 'Chi2v',\n",
       " 'Chi3n',\n",
       " 'Chi3v',\n",
       " 'Chi4n',\n",
       " 'Chi4v',\n",
       " 'HallKierAlpha',\n",
       " 'Ipc',\n",
       " 'Kappa1',\n",
       " 'Kappa2',\n",
       " 'Kappa3',\n",
       " 'LabuteASA',\n",
       " 'PEOE_VSA1',\n",
       " 'PEOE_VSA10',\n",
       " 'PEOE_VSA11',\n",
       " 'PEOE_VSA12',\n",
       " 'PEOE_VSA13',\n",
       " 'PEOE_VSA14',\n",
       " 'PEOE_VSA2',\n",
       " 'PEOE_VSA3',\n",
       " 'PEOE_VSA4',\n",
       " 'PEOE_VSA5',\n",
       " 'PEOE_VSA6',\n",
       " 'PEOE_VSA7',\n",
       " 'PEOE_VSA8',\n",
       " 'PEOE_VSA9',\n",
       " 'SMR_VSA1',\n",
       " 'SMR_VSA10',\n",
       " 'SMR_VSA2',\n",
       " 'SMR_VSA3',\n",
       " 'SMR_VSA4',\n",
       " 'SMR_VSA5',\n",
       " 'SMR_VSA6',\n",
       " 'SMR_VSA7',\n",
       " 'SMR_VSA8',\n",
       " 'SMR_VSA9',\n",
       " 'SlogP_VSA1',\n",
       " 'SlogP_VSA10',\n",
       " 'SlogP_VSA11',\n",
       " 'SlogP_VSA12',\n",
       " 'SlogP_VSA2',\n",
       " 'SlogP_VSA3',\n",
       " 'SlogP_VSA4',\n",
       " 'SlogP_VSA5',\n",
       " 'SlogP_VSA6',\n",
       " 'SlogP_VSA7',\n",
       " 'SlogP_VSA8',\n",
       " 'SlogP_VSA9',\n",
       " 'TPSA',\n",
       " 'EState_VSA1',\n",
       " 'EState_VSA10',\n",
       " 'EState_VSA11',\n",
       " 'EState_VSA2',\n",
       " 'EState_VSA3',\n",
       " 'EState_VSA4',\n",
       " 'EState_VSA5',\n",
       " 'EState_VSA6',\n",
       " 'EState_VSA7',\n",
       " 'EState_VSA8',\n",
       " 'EState_VSA9',\n",
       " 'VSA_EState1',\n",
       " 'VSA_EState10',\n",
       " 'VSA_EState2',\n",
       " 'VSA_EState3',\n",
       " 'VSA_EState4',\n",
       " 'VSA_EState5',\n",
       " 'VSA_EState6',\n",
       " 'VSA_EState7',\n",
       " 'VSA_EState8',\n",
       " 'VSA_EState9',\n",
       " 'FractionCSP3',\n",
       " 'HeavyAtomCount',\n",
       " 'NHOHCount',\n",
       " 'NOCount',\n",
       " 'NumAliphaticCarbocycles',\n",
       " 'NumAliphaticHeterocycles',\n",
       " 'NumAliphaticRings',\n",
       " 'NumAmideBonds',\n",
       " 'NumAromaticCarbocycles',\n",
       " 'NumAromaticHeterocycles',\n",
       " 'NumAromaticRings',\n",
       " 'NumAtomStereoCenters',\n",
       " 'NumBridgeheadAtoms',\n",
       " 'NumHAcceptors',\n",
       " 'NumHDonors',\n",
       " 'NumHeteroatoms',\n",
       " 'NumHeterocycles',\n",
       " 'NumRotatableBonds',\n",
       " 'NumSaturatedCarbocycles',\n",
       " 'NumSaturatedHeterocycles',\n",
       " 'NumSaturatedRings',\n",
       " 'NumSpiroAtoms',\n",
       " 'NumUnspecifiedAtomStereoCenters',\n",
       " 'Phi',\n",
       " 'RingCount',\n",
       " 'MolLogP',\n",
       " 'MolMR',\n",
       " 'fr_Al_COO',\n",
       " 'fr_Al_OH',\n",
       " 'fr_Al_OH_noTert',\n",
       " 'fr_ArN',\n",
       " 'fr_Ar_COO',\n",
       " 'fr_Ar_N',\n",
       " 'fr_Ar_NH',\n",
       " 'fr_Ar_OH',\n",
       " 'fr_COO',\n",
       " 'fr_COO2',\n",
       " 'fr_C_O',\n",
       " 'fr_C_O_noCOO',\n",
       " 'fr_C_S',\n",
       " 'fr_HOCCN',\n",
       " 'fr_Imine',\n",
       " 'fr_NH0',\n",
       " 'fr_NH1',\n",
       " 'fr_NH2',\n",
       " 'fr_N_O',\n",
       " 'fr_Ndealkylation1',\n",
       " 'fr_Ndealkylation2',\n",
       " 'fr_Nhpyrrole',\n",
       " 'fr_SH',\n",
       " 'fr_aldehyde',\n",
       " 'fr_alkyl_carbamate',\n",
       " 'fr_alkyl_halide',\n",
       " 'fr_allylic_oxid',\n",
       " 'fr_amide',\n",
       " 'fr_amidine',\n",
       " 'fr_aniline',\n",
       " 'fr_aryl_methyl',\n",
       " 'fr_azide',\n",
       " 'fr_azo',\n",
       " 'fr_barbitur',\n",
       " 'fr_benzene',\n",
       " 'fr_benzodiazepine',\n",
       " 'fr_bicyclic',\n",
       " 'fr_diazo',\n",
       " 'fr_dihydropyridine',\n",
       " 'fr_epoxide',\n",
       " 'fr_ester',\n",
       " 'fr_ether',\n",
       " 'fr_furan',\n",
       " 'fr_guanido',\n",
       " 'fr_halogen',\n",
       " 'fr_hdrzine',\n",
       " 'fr_hdrzone',\n",
       " 'fr_imidazole',\n",
       " 'fr_imide',\n",
       " 'fr_isocyan',\n",
       " 'fr_isothiocyan',\n",
       " 'fr_ketone',\n",
       " 'fr_ketone_Topliss',\n",
       " 'fr_lactam',\n",
       " 'fr_lactone',\n",
       " 'fr_methoxy',\n",
       " 'fr_morpholine',\n",
       " 'fr_nitrile',\n",
       " 'fr_nitro',\n",
       " 'fr_nitro_arom',\n",
       " 'fr_nitro_arom_nonortho',\n",
       " 'fr_nitroso',\n",
       " 'fr_oxazole',\n",
       " 'fr_oxime',\n",
       " 'fr_para_hydroxylation',\n",
       " 'fr_phenol',\n",
       " 'fr_phenol_noOrthoHbond',\n",
       " 'fr_phos_acid',\n",
       " 'fr_phos_ester',\n",
       " 'fr_piperdine',\n",
       " 'fr_piperzine',\n",
       " 'fr_priamide',\n",
       " 'fr_prisulfonamd',\n",
       " 'fr_pyridine',\n",
       " 'fr_quatN',\n",
       " 'fr_sulfide',\n",
       " 'fr_sulfonamd',\n",
       " 'fr_sulfone',\n",
       " 'fr_term_acetylene',\n",
       " 'fr_tetrazole',\n",
       " 'fr_thiazole',\n",
       " 'fr_thiocyan',\n",
       " 'fr_thiophene',\n",
       " 'fr_unbrch_alkane',\n",
       " 'fr_urea']"
      ]
     },
     "execution_count": 29,
     "metadata": {},
     "output_type": "execute_result"
    }
   ],
   "execution_count": 29
  },
  {
   "cell_type": "markdown",
   "id": "b347c10b-c8c3-4edf-bf8f-de9266999642",
   "metadata": {},
   "source": [
    " # Little Exploratory Data Analysis"
   ]
  },
  {
   "cell_type": "code",
   "id": "92a0771b",
   "metadata": {
    "ExecuteTime": {
     "end_time": "2025-04-22T00:53:35.038194Z",
     "start_time": "2025-04-22T00:50:36.774107Z"
    }
   },
   "source": [
    "calculator = MoleculeDescriptors.MolecularDescriptorCalculator(des_list)\n",
    "descriptors = [calculator.CalcDescriptors(mol) for mol in df_new['Molecule']]\n",
    "\n",
    "# Create a new DataFrame with descriptors\n",
    "descriptors_df = pd.DataFrame(descriptors, columns=des_list)\n",
    "\n",
    "# Concatenate the original DataFrame with the descriptors DataFrame\n",
    "df_with_descriptors = pd.concat([df_new, descriptors_df], axis=1)\n",
    "\n",
    "# Display the resulting DataFrame\n",
    "df_with_descriptors.head(n=3)"
   ],
   "outputs": [
    {
     "data": {
      "text/plain": [
       "  Molecule ChEMBL ID                                             Smiles  \\\n",
       "0      CHEMBL1809054  COc1cc(CN2CCOCC2)ccc1Nc1ncc(Cl)c(-c2cnc3ccccn2...   \n",
       "1      CHEMBL1809056  COc1cc(CC(=O)N2CCOCC2)ccc1Nc1ncc(Cl)c(-c2cnc3c...   \n",
       "2      CHEMBL1809057   COc1cc(C(CO)CO)ccc1Nc1ncc(Cl)c(-c2cnc3ccccn23)n1   \n",
       "\n",
       "   pChEMBL Value                                           Molecule  \\\n",
       "0           7.39  <rdkit.Chem.rdchem.Mol object at 0x0000025F495...   \n",
       "1           6.95  <rdkit.Chem.rdchem.Mol object at 0x0000025F495...   \n",
       "2           7.75  <rdkit.Chem.rdchem.Mol object at 0x0000025F495...   \n",
       "\n",
       "   MaxAbsEStateIndex  MaxEStateIndex  MinAbsEStateIndex  MinEStateIndex  \\\n",
       "0           6.430837        6.430837           0.425473        0.425473   \n",
       "1          12.592490       12.592490           0.073863        0.073863   \n",
       "2           9.413798        9.413798           0.157351       -0.373628   \n",
       "\n",
       "        qed        SPS  ...  fr_sulfide  fr_sulfonamd  fr_sulfone  \\\n",
       "0  0.474877  14.562500  ...           0             0           0   \n",
       "1  0.452191  13.764706  ...           0             0           0   \n",
       "2  0.417046  11.233333  ...           0             0           0   \n",
       "\n",
       "   fr_term_acetylene  fr_tetrazole  fr_thiazole  fr_thiocyan  fr_thiophene  \\\n",
       "0                  0             0            0            0             0   \n",
       "1                  0             0            0            0             0   \n",
       "2                  0             0            0            0             0   \n",
       "\n",
       "   fr_unbrch_alkane  fr_urea  \n",
       "0                 0        0  \n",
       "1                 0        0  \n",
       "2                 0        0  \n",
       "\n",
       "[3 rows x 221 columns]"
      ],
      "text/html": [
       "<div>\n",
       "<style scoped>\n",
       "    .dataframe tbody tr th:only-of-type {\n",
       "        vertical-align: middle;\n",
       "    }\n",
       "\n",
       "    .dataframe tbody tr th {\n",
       "        vertical-align: top;\n",
       "    }\n",
       "\n",
       "    .dataframe thead th {\n",
       "        text-align: right;\n",
       "    }\n",
       "</style>\n",
       "<table border=\"1\" class=\"dataframe\">\n",
       "  <thead>\n",
       "    <tr style=\"text-align: right;\">\n",
       "      <th></th>\n",
       "      <th>Molecule ChEMBL ID</th>\n",
       "      <th>Smiles</th>\n",
       "      <th>pChEMBL Value</th>\n",
       "      <th>Molecule</th>\n",
       "      <th>MaxAbsEStateIndex</th>\n",
       "      <th>MaxEStateIndex</th>\n",
       "      <th>MinAbsEStateIndex</th>\n",
       "      <th>MinEStateIndex</th>\n",
       "      <th>qed</th>\n",
       "      <th>SPS</th>\n",
       "      <th>...</th>\n",
       "      <th>fr_sulfide</th>\n",
       "      <th>fr_sulfonamd</th>\n",
       "      <th>fr_sulfone</th>\n",
       "      <th>fr_term_acetylene</th>\n",
       "      <th>fr_tetrazole</th>\n",
       "      <th>fr_thiazole</th>\n",
       "      <th>fr_thiocyan</th>\n",
       "      <th>fr_thiophene</th>\n",
       "      <th>fr_unbrch_alkane</th>\n",
       "      <th>fr_urea</th>\n",
       "    </tr>\n",
       "  </thead>\n",
       "  <tbody>\n",
       "    <tr>\n",
       "      <th>0</th>\n",
       "      <td>CHEMBL1809054</td>\n",
       "      <td>COc1cc(CN2CCOCC2)ccc1Nc1ncc(Cl)c(-c2cnc3ccccn2...</td>\n",
       "      <td>7.39</td>\n",
       "      <td>&lt;rdkit.Chem.rdchem.Mol object at 0x0000025F495...</td>\n",
       "      <td>6.430837</td>\n",
       "      <td>6.430837</td>\n",
       "      <td>0.425473</td>\n",
       "      <td>0.425473</td>\n",
       "      <td>0.474877</td>\n",
       "      <td>14.562500</td>\n",
       "      <td>...</td>\n",
       "      <td>0</td>\n",
       "      <td>0</td>\n",
       "      <td>0</td>\n",
       "      <td>0</td>\n",
       "      <td>0</td>\n",
       "      <td>0</td>\n",
       "      <td>0</td>\n",
       "      <td>0</td>\n",
       "      <td>0</td>\n",
       "      <td>0</td>\n",
       "    </tr>\n",
       "    <tr>\n",
       "      <th>1</th>\n",
       "      <td>CHEMBL1809056</td>\n",
       "      <td>COc1cc(CC(=O)N2CCOCC2)ccc1Nc1ncc(Cl)c(-c2cnc3c...</td>\n",
       "      <td>6.95</td>\n",
       "      <td>&lt;rdkit.Chem.rdchem.Mol object at 0x0000025F495...</td>\n",
       "      <td>12.592490</td>\n",
       "      <td>12.592490</td>\n",
       "      <td>0.073863</td>\n",
       "      <td>0.073863</td>\n",
       "      <td>0.452191</td>\n",
       "      <td>13.764706</td>\n",
       "      <td>...</td>\n",
       "      <td>0</td>\n",
       "      <td>0</td>\n",
       "      <td>0</td>\n",
       "      <td>0</td>\n",
       "      <td>0</td>\n",
       "      <td>0</td>\n",
       "      <td>0</td>\n",
       "      <td>0</td>\n",
       "      <td>0</td>\n",
       "      <td>0</td>\n",
       "    </tr>\n",
       "    <tr>\n",
       "      <th>2</th>\n",
       "      <td>CHEMBL1809057</td>\n",
       "      <td>COc1cc(C(CO)CO)ccc1Nc1ncc(Cl)c(-c2cnc3ccccn23)n1</td>\n",
       "      <td>7.75</td>\n",
       "      <td>&lt;rdkit.Chem.rdchem.Mol object at 0x0000025F495...</td>\n",
       "      <td>9.413798</td>\n",
       "      <td>9.413798</td>\n",
       "      <td>0.157351</td>\n",
       "      <td>-0.373628</td>\n",
       "      <td>0.417046</td>\n",
       "      <td>11.233333</td>\n",
       "      <td>...</td>\n",
       "      <td>0</td>\n",
       "      <td>0</td>\n",
       "      <td>0</td>\n",
       "      <td>0</td>\n",
       "      <td>0</td>\n",
       "      <td>0</td>\n",
       "      <td>0</td>\n",
       "      <td>0</td>\n",
       "      <td>0</td>\n",
       "      <td>0</td>\n",
       "    </tr>\n",
       "  </tbody>\n",
       "</table>\n",
       "<p>3 rows × 221 columns</p>\n",
       "</div>"
      ]
     },
     "execution_count": 30,
     "metadata": {},
     "output_type": "execute_result"
    }
   ],
   "execution_count": 30
  },
  {
   "cell_type": "code",
   "id": "a70ebd69-ca34-43bd-aff6-7fd18ed47b94",
   "metadata": {
    "ExecuteTime": {
     "end_time": "2025-04-22T00:53:35.770192Z",
     "start_time": "2025-04-22T00:53:35.038194Z"
    }
   },
   "source": [
    "import pandas as pd\n",
    "import matplotlib.pyplot as plt\n",
    "%matplotlib inline\n",
    "\n",
    "# Plot the distribution of a specific column\n",
    "column_name = 'MolLogP'  \n",
    "\n",
    "plt.figure(figsize=(1, 0.6))  # Set the figure size\n",
    "plt.hist(df_with_descriptors[column_name], bins=30, edgecolor='k', alpha=0.7)  # Plot the histogram\n",
    "plt.title(f'Distribution of {column_name}')\n",
    "plt.xlabel(column_name)\n",
    "plt.ylabel('Frequency')\n",
    "\n",
    "plt.show()\n"
   ],
   "outputs": [
    {
     "data": {
      "text/plain": [
       "<Figure size 100x60 with 1 Axes>"
      ],
      "image/png": "[encoded data removed]"
     },
     "metadata": {},
     "output_type": "display_data"
    }
   ],
   "execution_count": 31
  },
  {
   "cell_type": "code",
   "id": "31a752d9-bbc2-44d4-bc08-0bda00459fa9",
   "metadata": {
    "ExecuteTime": {
     "end_time": "2025-04-22T00:53:36.102652Z",
     "start_time": "2025-04-22T00:53:35.773201Z"
    }
   },
   "source": [
    "\n",
    "column_name = 'fr_quatN'  \n",
    "\n",
    "plt.figure(figsize=(1, 0.6))  # Set the figure size\n",
    "plt.hist(df_with_descriptors[column_name], bins=30, edgecolor='k', alpha=0.7)  # Plot the histogram\n",
    "plt.title(f'Distribution of {column_name}')\n",
    "plt.xlabel(column_name)\n",
    "plt.ylabel('Frequency')\n",
    "\n",
    "plt.show()"
   ],
   "outputs": [
    {
     "data": {
      "text/plain": [
       "<Figure size 100x60 with 1 Axes>"
      ],
      "image/png": "[encoded data removed]"
     },
     "metadata": {},
     "output_type": "display_data"
    }
   ],
   "execution_count": 32
  },
  {
   "cell_type": "code",
   "id": "dd94e939-7285-4c43-9f84-7e646b2cbae2",
   "metadata": {
    "scrolled": true,
    "ExecuteTime": {
     "end_time": "2025-04-22T00:53:36.380158Z",
     "start_time": "2025-04-22T00:53:36.107484Z"
    }
   },
   "source": [
    "# Replace 'column_x' and 'column_y' with the actual names of the columns you want to compare\n",
    "column_x = 'MolLogP'  # Replace with the actual column name\n",
    "column_y = 'MolWt'  # Replace with the actual column name\n",
    "\n",
    "plt.figure(figsize=(1, 0.6))  # Set the figure size\n",
    "plt.scatter(df_with_descriptors[column_x], df_with_descriptors[column_y], alpha=0.7)  # Create the scatter plot\n",
    "plt.title(f'Scatter Plot of {column_x} vs {column_y}')\n",
    "plt.xlabel(column_x)\n",
    "plt.ylabel(column_y)\n",
    "\n",
    "plt.show()\n"
   ],
   "outputs": [
    {
     "data": {
      "text/plain": [
       "<Figure size 100x60 with 1 Axes>"
      ],
      "image/png": "[encoded data removed]"
     },
     "metadata": {},
     "output_type": "display_data"
    }
   ],
   "execution_count": 33
  },
  {
   "cell_type": "code",
   "id": "66e99a5e-830d-4eb3-8f61-535558cbd437",
   "metadata": {
    "ExecuteTime": {
     "end_time": "2025-04-22T00:53:36.651370Z",
     "start_time": "2025-04-22T00:53:36.380158Z"
    }
   },
   "source": [
    "# Replace 'column_x' and 'column_y' with the actual names of the columns you want to compare\n",
    "column_x = 'TPSA'  # Replace with the actual column name\n",
    "column_y = 'qed'  # Replace with the actual column name\n",
    "\n",
    "plt.figure(figsize=(1, 0.6))  # Set the figure size\n",
    "plt.scatter(df_with_descriptors[column_x], df_with_descriptors[column_y], alpha=0.7)  # Create the scatter plot\n",
    "plt.title(f'Scatter Plot of {column_x} vs {column_y}')\n",
    "plt.xlabel(column_x)\n",
    "plt.ylabel(column_y)\n",
    "\n",
    "plt.show()\n",
    "\n"
   ],
   "outputs": [
    {
     "data": {
      "text/plain": [
       "<Figure size 100x60 with 1 Axes>"
      ],
      "image/png": "[encoded data removed]"
     },
     "metadata": {},
     "output_type": "display_data"
    }
   ],
   "execution_count": 34
  },
  {
   "cell_type": "code",
   "id": "61b9ff5c-b689-4ddf-95a7-e69464f7ca14",
   "metadata": {
    "ExecuteTime": {
     "end_time": "2025-04-22T00:53:38.836888Z",
     "start_time": "2025-04-22T00:53:36.651370Z"
    }
   },
   "source": [
    "# Replace 'column_x1', 'column_y1', 'column_x2', 'column_y2' with actual column names\n",
    "column_x1 = 'qed'\n",
    "column_y1 = 'TPSA'\n",
    "column_x2 = 'MolWt'\n",
    "column_y2 = 'NumRotatableBonds'\n",
    "\n",
    "# Create a figure with 4 subplots (2 row, 2 columns)\n",
    "fig, axs = plt.subplots(2, 2, figsize=(14, 6))\n",
    "\n",
    "# First subplot\n",
    "axs[0,0].scatter(df_with_descriptors[column_x1], df_with_descriptors[column_y1], alpha=0.7)\n",
    "axs[0,0].set_title(f'Scatter Plot of {column_x1} vs {column_y1}')\n",
    "axs[0,0].set_xlabel(column_x1)\n",
    "axs[0,0].set_ylabel(column_y1)\n",
    "axs[0,0].grid(True)\n",
    "\n",
    "# Second subplot\n",
    "axs[0,1].scatter(df_with_descriptors[column_x2], df_with_descriptors[column_y2], alpha=0.7)\n",
    "axs[0,1].set_title(f'Scatter Plot of {column_x2} vs {column_y2}')\n",
    "axs[0,1].set_xlabel(column_x2)\n",
    "axs[0,1].set_ylabel(column_y2)\n",
    "axs[0,1].grid(True)\n",
    "\n",
    "# Third subplot\n",
    "axs[1,0].scatter(df_with_descriptors[column_x1], df_with_descriptors[column_x2], alpha=0.7)\n",
    "axs[1,0].set_title(f'Scatter Plot of {column_x1} vs {column_x2}')\n",
    "axs[1,0].set_xlabel(column_x1)\n",
    "axs[1,0].set_ylabel(column_x2)\n",
    "axs[1,0].grid(True)\n",
    "\n",
    "# Fourth subplot\n",
    "axs[1,1].scatter(df_with_descriptors[column_y1], df_with_descriptors[column_y2], alpha=0.7)\n",
    "axs[1,1].set_title(f'Scatter Plot of {column_y1} vs {column_y2}')\n",
    "axs[1,1].set_xlabel(column_y1)\n",
    "axs[1,1].set_ylabel(column_y2)\n",
    "axs[1,1].grid(True)\n",
    "\n",
    "\n",
    "# Adjust layout\n",
    "plt.tight_layout()\n",
    "plt.show()\n"
   ],
   "outputs": [
    {
     "data": {
      "text/plain": [
       "<Figure size 1400x600 with 4 Axes>"
      ],
      "image/png": "[encoded data removed]"
     },
     "metadata": {},
     "output_type": "display_data"
    }
   ],
   "execution_count": 35
  },
  {
   "cell_type": "markdown",
   "id": "403d66d4-8bbe-4aa8-b2d5-e8651b3b8212",
   "metadata": {},
   "source": [
    "# Now machine learning"
   ]
  },
  {
   "cell_type": "markdown",
   "id": "c7356edd-5bbf-4af6-a48f-180ad3b91d0f",
   "metadata": {},
   "source": [
    "# divide into training set and test set"
   ]
  },
  {
   "cell_type": "code",
   "id": "14f40e2d-a27b-48bf-bda2-891835daaeea",
   "metadata": {
    "ExecuteTime": {
     "end_time": "2025-04-22T00:58:43.234008Z",
     "start_time": "2025-04-22T00:58:43.226063Z"
    }
   },
   "source": [
    "from sklearn.model_selection import train_test_split, cross_val_score\n",
    "from sklearn.linear_model import LinearRegression\n",
    "from sklearn.ensemble import ExtraTreesRegressor, HistGradientBoostingRegressor,RandomForestRegressor, AdaBoostRegressor, BaggingRegressor, StackingRegressor\n"
   ],
   "outputs": [],
   "execution_count": 38
  },
  {
   "cell_type": "code",
   "id": "b6096e55-b24a-41aa-a4d0-b4dcfac94830",
   "metadata": {
    "ExecuteTime": {
     "end_time": "2025-04-22T00:58:44.495620Z",
     "start_time": "2025-04-22T00:58:44.486676Z"
    }
   },
   "source": [
    "y = df_with_descriptors['pChEMBL Value']"
   ],
   "outputs": [],
   "execution_count": 39
  },
  {
   "cell_type": "code",
   "id": "0b581f37-b215-4b6d-96ac-a373ca053137",
   "metadata": {
    "ExecuteTime": {
     "end_time": "2025-04-22T00:58:44.736901Z",
     "start_time": "2025-04-22T00:58:44.722793Z"
    }
   },
   "source": [
    "X = df_with_descriptors[[\"qed\", \"MinPartialCharge\",  \"MaxPartialCharge\", \"NumHAcceptors\", \"NumHDonors\", \"RingCount\" ,\"MolLogP\", \"fr_halogen\", \"fr_benzene\" ,\"BertzCT\"]]\n",
    "\n",
    "                        # \"qed,MinPartialCharge, MaxPartialCharge, NumHAcceptors, NumHDonors, RingCount MolLogP\"\n",
    "# X = df_with_descriptors.drop(columns=['pChEMBL Value', 'Molecule ChEMBL ID', 'Smiles', 'Molecule'])"
   ],
   "outputs": [],
   "execution_count": 40
  },
  {
   "cell_type": "code",
   "id": "f3d2f076",
   "metadata": {
    "ExecuteTime": {
     "end_time": "2025-04-22T00:58:45.083700Z",
     "start_time": "2025-04-22T00:58:45.068998Z"
    }
   },
   "source": [
    "X.columns"
   ],
   "outputs": [
    {
     "data": {
      "text/plain": [
       "Index(['qed', 'MinPartialCharge', 'MaxPartialCharge', 'NumHAcceptors',\n",
       "       'NumHDonors', 'RingCount', 'MolLogP', 'fr_halogen', 'fr_benzene',\n",
       "       'BertzCT'],\n",
       "      dtype='object')"
      ]
     },
     "execution_count": 41,
     "metadata": {},
     "output_type": "execute_result"
    }
   ],
   "execution_count": 41
  },
  {
   "cell_type": "code",
   "id": "663aaabd-8f7e-4e8d-91f0-c489237ccf40",
   "metadata": {
    "ExecuteTime": {
     "end_time": "2025-04-22T00:58:45.379411Z",
     "start_time": "2025-04-22T00:58:45.345744Z"
    }
   },
   "source": [
    "X.head()"
   ],
   "outputs": [
    {
     "data": {
      "text/plain": [
       "        qed  MinPartialCharge  MaxPartialCharge  NumHAcceptors  NumHDonors  \\\n",
       "0  0.474877         -0.494568          0.227481              8           1   \n",
       "1  0.452191         -0.494568          0.227481              8           1   \n",
       "2  0.417046         -0.494568          0.227481              8           3   \n",
       "3  0.452044         -0.494498          0.227481              9           2   \n",
       "4  0.379743         -0.494498          0.227481             10           2   \n",
       "\n",
       "   RingCount  MolLogP  fr_halogen  fr_benzene      BertzCT  \n",
       "0          5   4.0291           1           1  1199.925774  \n",
       "1          5   3.5982           1           1  1292.874986  \n",
       "2          4   3.2651           1           1  1137.887136  \n",
       "3          6   3.3739           1           1  1290.874986  \n",
       "4          6   3.0786           1           1  1354.074715  "
      ],
      "text/html": [
       "<div>\n",
       "<style scoped>\n",
       "    .dataframe tbody tr th:only-of-type {\n",
       "        vertical-align: middle;\n",
       "    }\n",
       "\n",
       "    .dataframe tbody tr th {\n",
       "        vertical-align: top;\n",
       "    }\n",
       "\n",
       "    .dataframe thead th {\n",
       "        text-align: right;\n",
       "    }\n",
       "</style>\n",
       "<table border=\"1\" class=\"dataframe\">\n",
       "  <thead>\n",
       "    <tr style=\"text-align: right;\">\n",
       "      <th></th>\n",
       "      <th>qed</th>\n",
       "      <th>MinPartialCharge</th>\n",
       "      <th>MaxPartialCharge</th>\n",
       "      <th>NumHAcceptors</th>\n",
       "      <th>NumHDonors</th>\n",
       "      <th>RingCount</th>\n",
       "      <th>MolLogP</th>\n",
       "      <th>fr_halogen</th>\n",
       "      <th>fr_benzene</th>\n",
       "      <th>BertzCT</th>\n",
       "    </tr>\n",
       "  </thead>\n",
       "  <tbody>\n",
       "    <tr>\n",
       "      <th>0</th>\n",
       "      <td>0.474877</td>\n",
       "      <td>-0.494568</td>\n",
       "      <td>0.227481</td>\n",
       "      <td>8</td>\n",
       "      <td>1</td>\n",
       "      <td>5</td>\n",
       "      <td>4.0291</td>\n",
       "      <td>1</td>\n",
       "      <td>1</td>\n",
       "      <td>1199.925774</td>\n",
       "    </tr>\n",
       "    <tr>\n",
       "      <th>1</th>\n",
       "      <td>0.452191</td>\n",
       "      <td>-0.494568</td>\n",
       "      <td>0.227481</td>\n",
       "      <td>8</td>\n",
       "      <td>1</td>\n",
       "      <td>5</td>\n",
       "      <td>3.5982</td>\n",
       "      <td>1</td>\n",
       "      <td>1</td>\n",
       "      <td>1292.874986</td>\n",
       "    </tr>\n",
       "    <tr>\n",
       "      <th>2</th>\n",
       "      <td>0.417046</td>\n",
       "      <td>-0.494568</td>\n",
       "      <td>0.227481</td>\n",
       "      <td>8</td>\n",
       "      <td>3</td>\n",
       "      <td>4</td>\n",
       "      <td>3.2651</td>\n",
       "      <td>1</td>\n",
       "      <td>1</td>\n",
       "      <td>1137.887136</td>\n",
       "    </tr>\n",
       "    <tr>\n",
       "      <th>3</th>\n",
       "      <td>0.452044</td>\n",
       "      <td>-0.494498</td>\n",
       "      <td>0.227481</td>\n",
       "      <td>9</td>\n",
       "      <td>2</td>\n",
       "      <td>6</td>\n",
       "      <td>3.3739</td>\n",
       "      <td>1</td>\n",
       "      <td>1</td>\n",
       "      <td>1290.874986</td>\n",
       "    </tr>\n",
       "    <tr>\n",
       "      <th>4</th>\n",
       "      <td>0.379743</td>\n",
       "      <td>-0.494498</td>\n",
       "      <td>0.227481</td>\n",
       "      <td>10</td>\n",
       "      <td>2</td>\n",
       "      <td>6</td>\n",
       "      <td>3.0786</td>\n",
       "      <td>1</td>\n",
       "      <td>1</td>\n",
       "      <td>1354.074715</td>\n",
       "    </tr>\n",
       "  </tbody>\n",
       "</table>\n",
       "</div>"
      ]
     },
     "execution_count": 42,
     "metadata": {},
     "output_type": "execute_result"
    }
   ],
   "execution_count": 42
  },
  {
   "cell_type": "code",
   "id": "9e2af8bf",
   "metadata": {
    "ExecuteTime": {
     "end_time": "2025-04-22T00:58:45.583435Z",
     "start_time": "2025-04-22T00:58:45.567453Z"
    }
   },
   "source": [
    "y.head"
   ],
   "outputs": [
    {
     "data": {
      "text/plain": [
       "<bound method NDFrame.head of 0       7.39\n",
       "1       6.95\n",
       "2       7.75\n",
       "3       8.40\n",
       "4       8.70\n",
       "        ... \n",
       "3212    9.46\n",
       "3213    7.62\n",
       "3214    4.80\n",
       "3215    7.70\n",
       "3216    7.14\n",
       "Name: pChEMBL Value, Length: 3217, dtype: float64>"
      ]
     },
     "execution_count": 43,
     "metadata": {},
     "output_type": "execute_result"
    }
   ],
   "execution_count": 43
  },
  {
   "cell_type": "code",
   "id": "84897871-8605-4959-b719-9ea7b3016841",
   "metadata": {
    "ExecuteTime": {
     "end_time": "2025-04-22T00:58:45.998067Z",
     "start_time": "2025-04-22T00:58:45.983026Z"
    }
   },
   "source": [
    "X_train, X_test, y_train, y_test = train_test_split(X, y, test_size=0.25, random_state=51)"
   ],
   "outputs": [],
   "execution_count": 44
  },
  {
   "cell_type": "code",
   "id": "c622e308-6ad4-4ad7-93fa-00465874a991",
   "metadata": {
    "ExecuteTime": {
     "end_time": "2025-04-22T01:00:54.849933Z",
     "start_time": "2025-04-22T01:00:54.841543Z"
    }
   },
   "source": [
    "model = RandomForestRegressor()\n"
   ],
   "outputs": [],
   "execution_count": 73
  },
  {
   "cell_type": "code",
   "id": "be3e1ab5",
   "metadata": {
    "ExecuteTime": {
     "end_time": "2025-04-22T01:01:10.378578Z",
     "start_time": "2025-04-22T01:00:56.025885Z"
    }
   },
   "source": [
    "from sklearn.model_selection import cross_val_score\n",
    "scores = cross_val_score(model, X_train, y_train, cv=5, scoring='r2')\n",
    "print(f\"Cross-validated R² scores: {scores}\")\n",
    "print(f\"Mean R²: {np.mean(scores)}\")"
   ],
   "outputs": [
    {
     "name": "stdout",
     "output_type": "stream",
     "text": [
      "Cross-validated R² scores: [0.54896493 0.65601227 0.66372845 0.62290549 0.66776766]\n",
      "Mean R²: 0.6318757581774731\n"
     ]
    }
   ],
   "execution_count": 74
  },
  {
   "cell_type": "code",
   "id": "8cd48b82-6729-46bb-8c82-f602b0073b9e",
   "metadata": {
    "ExecuteTime": {
     "end_time": "2025-04-22T01:01:13.776087Z",
     "start_time": "2025-04-22T01:01:10.382259Z"
    }
   },
   "source": [
    "model.fit(X_train, y_train)"
   ],
   "outputs": [
    {
     "data": {
      "text/plain": [
       "RandomForestRegressor()"
      ],
      "text/html": [
       "<style>#sk-container-id-2 {\n",
       "  /* Definition of color scheme common for light and dark mode */\n",
       "  --sklearn-color-text: #000;\n",
       "  --sklearn-color-text-muted: #666;\n",
       "  --sklearn-color-line: gray;\n",
       "  /* Definition of color scheme for unfitted estimators */\n",
       "  --sklearn-color-unfitted-level-0: #fff5e6;\n",
       "  --sklearn-color-unfitted-level-1: #f6e4d2;\n",
       "  --sklearn-color-unfitted-level-2: #ffe0b3;\n",
       "  --sklearn-color-unfitted-level-3: chocolate;\n",
       "  /* Definition of color scheme for fitted estimators */\n",
       "  --sklearn-color-fitted-level-0: #f0f8ff;\n",
       "  --sklearn-color-fitted-level-1: #d4ebff;\n",
       "  --sklearn-color-fitted-level-2: #b3dbfd;\n",
       "  --sklearn-color-fitted-level-3: cornflowerblue;\n",
       "\n",
       "  /* Specific color for light theme */\n",
       "  --sklearn-color-text-on-default-background: var(--sg-text-color, var(--theme-code-foreground, var(--jp-content-font-color1, black)));\n",
       "  --sklearn-color-background: var(--sg-background-color, var(--theme-background, var(--jp-layout-color0, white)));\n",
       "  --sklearn-color-border-box: var(--sg-text-color, var(--theme-code-foreground, var(--jp-content-font-color1, black)));\n",
       "  --sklearn-color-icon: #696969;\n",
       "\n",
       "  @media (prefers-color-scheme: dark) {\n",
       "    /* Redefinition of color scheme for dark theme */\n",
       "    --sklearn-color-text-on-default-background: var(--sg-text-color, var(--theme-code-foreground, var(--jp-content-font-color1, white)));\n",
       "    --sklearn-color-background: var(--sg-background-color, var(--theme-background, var(--jp-layout-color0, #111)));\n",
       "    --sklearn-color-border-box: var(--sg-text-color, var(--theme-code-foreground, var(--jp-content-font-color1, white)));\n",
       "    --sklearn-color-icon: #878787;\n",
       "  }\n",
       "}\n",
       "\n",
       "#sk-container-id-2 {\n",
       "  color: var(--sklearn-color-text);\n",
       "}\n",
       "\n",
       "#sk-container-id-2 pre {\n",
       "  padding: 0;\n",
       "}\n",
       "\n",
       "#sk-container-id-2 input.sk-hidden--visually {\n",
       "  border: 0;\n",
       "  clip: rect(1px 1px 1px 1px);\n",
       "  clip: rect(1px, 1px, 1px, 1px);\n",
       "  height: 1px;\n",
       "  margin: -1px;\n",
       "  overflow: hidden;\n",
       "  padding: 0;\n",
       "  position: absolute;\n",
       "  width: 1px;\n",
       "}\n",
       "\n",
       "#sk-container-id-2 div.sk-dashed-wrapped {\n",
       "  border: 1px dashed var(--sklearn-color-line);\n",
       "  margin: 0 0.4em 0.5em 0.4em;\n",
       "  box-sizing: border-box;\n",
       "  padding-bottom: 0.4em;\n",
       "  background-color: var(--sklearn-color-background);\n",
       "}\n",
       "\n",
       "#sk-container-id-2 div.sk-container {\n",
       "  /* jupyter's `normalize.less` sets `[hidden] { display: none; }`\n",
       "     but bootstrap.min.css set `[hidden] { display: none !important; }`\n",
       "     so we also need the `!important` here to be able to override the\n",
       "     default hidden behavior on the sphinx rendered scikit-learn.org.\n",
       "     See: https://github.com/scikit-learn/scikit-learn/issues/21755 */\n",
       "  display: inline-block !important;\n",
       "  position: relative;\n",
       "}\n",
       "\n",
       "#sk-container-id-2 div.sk-text-repr-fallback {\n",
       "  display: none;\n",
       "}\n",
       "\n",
       "div.sk-parallel-item,\n",
       "div.sk-serial,\n",
       "div.sk-item {\n",
       "  /* draw centered vertical line to link estimators */\n",
       "  background-image: linear-gradient(var(--sklearn-color-text-on-default-background), var(--sklearn-color-text-on-default-background));\n",
       "  background-size: 2px 100%;\n",
       "  background-repeat: no-repeat;\n",
       "  background-position: center center;\n",
       "}\n",
       "\n",
       "/* Parallel-specific style estimator block */\n",
       "\n",
       "#sk-container-id-2 div.sk-parallel-item::after {\n",
       "  content: \"\";\n",
       "  width: 100%;\n",
       "  border-bottom: 2px solid var(--sklearn-color-text-on-default-background);\n",
       "  flex-grow: 1;\n",
       "}\n",
       "\n",
       "#sk-container-id-2 div.sk-parallel {\n",
       "  display: flex;\n",
       "  align-items: stretch;\n",
       "  justify-content: center;\n",
       "  background-color: var(--sklearn-color-background);\n",
       "  position: relative;\n",
       "}\n",
       "\n",
       "#sk-container-id-2 div.sk-parallel-item {\n",
       "  display: flex;\n",
       "  flex-direction: column;\n",
       "}\n",
       "\n",
       "#sk-container-id-2 div.sk-parallel-item:first-child::after {\n",
       "  align-self: flex-end;\n",
       "  width: 50%;\n",
       "}\n",
       "\n",
       "#sk-container-id-2 div.sk-parallel-item:last-child::after {\n",
       "  align-self: flex-start;\n",
       "  width: 50%;\n",
       "}\n",
       "\n",
       "#sk-container-id-2 div.sk-parallel-item:only-child::after {\n",
       "  width: 0;\n",
       "}\n",
       "\n",
       "/* Serial-specific style estimator block */\n",
       "\n",
       "#sk-container-id-2 div.sk-serial {\n",
       "  display: flex;\n",
       "  flex-direction: column;\n",
       "  align-items: center;\n",
       "  background-color: var(--sklearn-color-background);\n",
       "  padding-right: 1em;\n",
       "  padding-left: 1em;\n",
       "}\n",
       "\n",
       "\n",
       "/* Toggleable style: style used for estimator/Pipeline/ColumnTransformer box that is\n",
       "clickable and can be expanded/collapsed.\n",
       "- Pipeline and ColumnTransformer use this feature and define the default style\n",
       "- Estimators will overwrite some part of the style using the `sk-estimator` class\n",
       "*/\n",
       "\n",
       "/* Pipeline and ColumnTransformer style (default) */\n",
       "\n",
       "#sk-container-id-2 div.sk-toggleable {\n",
       "  /* Default theme specific background. It is overwritten whether we have a\n",
       "  specific estimator or a Pipeline/ColumnTransformer */\n",
       "  background-color: var(--sklearn-color-background);\n",
       "}\n",
       "\n",
       "/* Toggleable label */\n",
       "#sk-container-id-2 label.sk-toggleable__label {\n",
       "  cursor: pointer;\n",
       "  display: flex;\n",
       "  width: 100%;\n",
       "  margin-bottom: 0;\n",
       "  padding: 0.5em;\n",
       "  box-sizing: border-box;\n",
       "  text-align: center;\n",
       "  align-items: start;\n",
       "  justify-content: space-between;\n",
       "  gap: 0.5em;\n",
       "}\n",
       "\n",
       "#sk-container-id-2 label.sk-toggleable__label .caption {\n",
       "  font-size: 0.6rem;\n",
       "  font-weight: lighter;\n",
       "  color: var(--sklearn-color-text-muted);\n",
       "}\n",
       "\n",
       "#sk-container-id-2 label.sk-toggleable__label-arrow:before {\n",
       "  /* Arrow on the left of the label */\n",
       "  content: \"▸\";\n",
       "  float: left;\n",
       "  margin-right: 0.25em;\n",
       "  color: var(--sklearn-color-icon);\n",
       "}\n",
       "\n",
       "#sk-container-id-2 label.sk-toggleable__label-arrow:hover:before {\n",
       "  color: var(--sklearn-color-text);\n",
       "}\n",
       "\n",
       "/* Toggleable content - dropdown */\n",
       "\n",
       "#sk-container-id-2 div.sk-toggleable__content {\n",
       "  max-height: 0;\n",
       "  max-width: 0;\n",
       "  overflow: hidden;\n",
       "  text-align: left;\n",
       "  /* unfitted */\n",
       "  background-color: var(--sklearn-color-unfitted-level-0);\n",
       "}\n",
       "\n",
       "#sk-container-id-2 div.sk-toggleable__content.fitted {\n",
       "  /* fitted */\n",
       "  background-color: var(--sklearn-color-fitted-level-0);\n",
       "}\n",
       "\n",
       "#sk-container-id-2 div.sk-toggleable__content pre {\n",
       "  margin: 0.2em;\n",
       "  border-radius: 0.25em;\n",
       "  color: var(--sklearn-color-text);\n",
       "  /* unfitted */\n",
       "  background-color: var(--sklearn-color-unfitted-level-0);\n",
       "}\n",
       "\n",
       "#sk-container-id-2 div.sk-toggleable__content.fitted pre {\n",
       "  /* unfitted */\n",
       "  background-color: var(--sklearn-color-fitted-level-0);\n",
       "}\n",
       "\n",
       "#sk-container-id-2 input.sk-toggleable__control:checked~div.sk-toggleable__content {\n",
       "  /* Expand drop-down */\n",
       "  max-height: 200px;\n",
       "  max-width: 100%;\n",
       "  overflow: auto;\n",
       "}\n",
       "\n",
       "#sk-container-id-2 input.sk-toggleable__control:checked~label.sk-toggleable__label-arrow:before {\n",
       "  content: \"▾\";\n",
       "}\n",
       "\n",
       "/* Pipeline/ColumnTransformer-specific style */\n",
       "\n",
       "#sk-container-id-2 div.sk-label input.sk-toggleable__control:checked~label.sk-toggleable__label {\n",
       "  color: var(--sklearn-color-text);\n",
       "  background-color: var(--sklearn-color-unfitted-level-2);\n",
       "}\n",
       "\n",
       "#sk-container-id-2 div.sk-label.fitted input.sk-toggleable__control:checked~label.sk-toggleable__label {\n",
       "  background-color: var(--sklearn-color-fitted-level-2);\n",
       "}\n",
       "\n",
       "/* Estimator-specific style */\n",
       "\n",
       "/* Colorize estimator box */\n",
       "#sk-container-id-2 div.sk-estimator input.sk-toggleable__control:checked~label.sk-toggleable__label {\n",
       "  /* unfitted */\n",
       "  background-color: var(--sklearn-color-unfitted-level-2);\n",
       "}\n",
       "\n",
       "#sk-container-id-2 div.sk-estimator.fitted input.sk-toggleable__control:checked~label.sk-toggleable__label {\n",
       "  /* fitted */\n",
       "  background-color: var(--sklearn-color-fitted-level-2);\n",
       "}\n",
       "\n",
       "#sk-container-id-2 div.sk-label label.sk-toggleable__label,\n",
       "#sk-container-id-2 div.sk-label label {\n",
       "  /* The background is the default theme color */\n",
       "  color: var(--sklearn-color-text-on-default-background);\n",
       "}\n",
       "\n",
       "/* On hover, darken the color of the background */\n",
       "#sk-container-id-2 div.sk-label:hover label.sk-toggleable__label {\n",
       "  color: var(--sklearn-color-text);\n",
       "  background-color: var(--sklearn-color-unfitted-level-2);\n",
       "}\n",
       "\n",
       "/* Label box, darken color on hover, fitted */\n",
       "#sk-container-id-2 div.sk-label.fitted:hover label.sk-toggleable__label.fitted {\n",
       "  color: var(--sklearn-color-text);\n",
       "  background-color: var(--sklearn-color-fitted-level-2);\n",
       "}\n",
       "\n",
       "/* Estimator label */\n",
       "\n",
       "#sk-container-id-2 div.sk-label label {\n",
       "  font-family: monospace;\n",
       "  font-weight: bold;\n",
       "  display: inline-block;\n",
       "  line-height: 1.2em;\n",
       "}\n",
       "\n",
       "#sk-container-id-2 div.sk-label-container {\n",
       "  text-align: center;\n",
       "}\n",
       "\n",
       "/* Estimator-specific */\n",
       "#sk-container-id-2 div.sk-estimator {\n",
       "  font-family: monospace;\n",
       "  border: 1px dotted var(--sklearn-color-border-box);\n",
       "  border-radius: 0.25em;\n",
       "  box-sizing: border-box;\n",
       "  margin-bottom: 0.5em;\n",
       "  /* unfitted */\n",
       "  background-color: var(--sklearn-color-unfitted-level-0);\n",
       "}\n",
       "\n",
       "#sk-container-id-2 div.sk-estimator.fitted {\n",
       "  /* fitted */\n",
       "  background-color: var(--sklearn-color-fitted-level-0);\n",
       "}\n",
       "\n",
       "/* on hover */\n",
       "#sk-container-id-2 div.sk-estimator:hover {\n",
       "  /* unfitted */\n",
       "  background-color: var(--sklearn-color-unfitted-level-2);\n",
       "}\n",
       "\n",
       "#sk-container-id-2 div.sk-estimator.fitted:hover {\n",
       "  /* fitted */\n",
       "  background-color: var(--sklearn-color-fitted-level-2);\n",
       "}\n",
       "\n",
       "/* Specification for estimator info (e.g. \"i\" and \"?\") */\n",
       "\n",
       "/* Common style for \"i\" and \"?\" */\n",
       "\n",
       ".sk-estimator-doc-link,\n",
       "a:link.sk-estimator-doc-link,\n",
       "a:visited.sk-estimator-doc-link {\n",
       "  float: right;\n",
       "  font-size: smaller;\n",
       "  line-height: 1em;\n",
       "  font-family: monospace;\n",
       "  background-color: var(--sklearn-color-background);\n",
       "  border-radius: 1em;\n",
       "  height: 1em;\n",
       "  width: 1em;\n",
       "  text-decoration: none !important;\n",
       "  margin-left: 0.5em;\n",
       "  text-align: center;\n",
       "  /* unfitted */\n",
       "  border: var(--sklearn-color-unfitted-level-1) 1pt solid;\n",
       "  color: var(--sklearn-color-unfitted-level-1);\n",
       "}\n",
       "\n",
       ".sk-estimator-doc-link.fitted,\n",
       "a:link.sk-estimator-doc-link.fitted,\n",
       "a:visited.sk-estimator-doc-link.fitted {\n",
       "  /* fitted */\n",
       "  border: var(--sklearn-color-fitted-level-1) 1pt solid;\n",
       "  color: var(--sklearn-color-fitted-level-1);\n",
       "}\n",
       "\n",
       "/* On hover */\n",
       "div.sk-estimator:hover .sk-estimator-doc-link:hover,\n",
       ".sk-estimator-doc-link:hover,\n",
       "div.sk-label-container:hover .sk-estimator-doc-link:hover,\n",
       ".sk-estimator-doc-link:hover {\n",
       "  /* unfitted */\n",
       "  background-color: var(--sklearn-color-unfitted-level-3);\n",
       "  color: var(--sklearn-color-background);\n",
       "  text-decoration: none;\n",
       "}\n",
       "\n",
       "div.sk-estimator.fitted:hover .sk-estimator-doc-link.fitted:hover,\n",
       ".sk-estimator-doc-link.fitted:hover,\n",
       "div.sk-label-container:hover .sk-estimator-doc-link.fitted:hover,\n",
       ".sk-estimator-doc-link.fitted:hover {\n",
       "  /* fitted */\n",
       "  background-color: var(--sklearn-color-fitted-level-3);\n",
       "  color: var(--sklearn-color-background);\n",
       "  text-decoration: none;\n",
       "}\n",
       "\n",
       "/* Span, style for the box shown on hovering the info icon */\n",
       ".sk-estimator-doc-link span {\n",
       "  display: none;\n",
       "  z-index: 9999;\n",
       "  position: relative;\n",
       "  font-weight: normal;\n",
       "  right: .2ex;\n",
       "  padding: .5ex;\n",
       "  margin: .5ex;\n",
       "  width: min-content;\n",
       "  min-width: 20ex;\n",
       "  max-width: 50ex;\n",
       "  color: var(--sklearn-color-text);\n",
       "  box-shadow: 2pt 2pt 4pt #999;\n",
       "  /* unfitted */\n",
       "  background: var(--sklearn-color-unfitted-level-0);\n",
       "  border: .5pt solid var(--sklearn-color-unfitted-level-3);\n",
       "}\n",
       "\n",
       ".sk-estimator-doc-link.fitted span {\n",
       "  /* fitted */\n",
       "  background: var(--sklearn-color-fitted-level-0);\n",
       "  border: var(--sklearn-color-fitted-level-3);\n",
       "}\n",
       "\n",
       ".sk-estimator-doc-link:hover span {\n",
       "  display: block;\n",
       "}\n",
       "\n",
       "/* \"?\"-specific style due to the `<a>` HTML tag */\n",
       "\n",
       "#sk-container-id-2 a.estimator_doc_link {\n",
       "  float: right;\n",
       "  font-size: 1rem;\n",
       "  line-height: 1em;\n",
       "  font-family: monospace;\n",
       "  background-color: var(--sklearn-color-background);\n",
       "  border-radius: 1rem;\n",
       "  height: 1rem;\n",
       "  width: 1rem;\n",
       "  text-decoration: none;\n",
       "  /* unfitted */\n",
       "  color: var(--sklearn-color-unfitted-level-1);\n",
       "  border: var(--sklearn-color-unfitted-level-1) 1pt solid;\n",
       "}\n",
       "\n",
       "#sk-container-id-2 a.estimator_doc_link.fitted {\n",
       "  /* fitted */\n",
       "  border: var(--sklearn-color-fitted-level-1) 1pt solid;\n",
       "  color: var(--sklearn-color-fitted-level-1);\n",
       "}\n",
       "\n",
       "/* On hover */\n",
       "#sk-container-id-2 a.estimator_doc_link:hover {\n",
       "  /* unfitted */\n",
       "  background-color: var(--sklearn-color-unfitted-level-3);\n",
       "  color: var(--sklearn-color-background);\n",
       "  text-decoration: none;\n",
       "}\n",
       "\n",
       "#sk-container-id-2 a.estimator_doc_link.fitted:hover {\n",
       "  /* fitted */\n",
       "  background-color: var(--sklearn-color-fitted-level-3);\n",
       "}\n",
       "</style><div id=\"sk-container-id-2\" class=\"sk-top-container\"><div class=\"sk-text-repr-fallback\"><pre>RandomForestRegressor()</pre><b>In a Jupyter environment, please rerun this cell to show the HTML representation or trust the notebook. <br />On GitHub, the HTML representation is unable to render, please try loading this page with nbviewer.org.</b></div><div class=\"sk-container\" hidden><div class=\"sk-item\"><div class=\"sk-estimator fitted sk-toggleable\"><input class=\"sk-toggleable__control sk-hidden--visually\" id=\"sk-estimator-id-2\" type=\"checkbox\" checked><label for=\"sk-estimator-id-2\" class=\"sk-toggleable__label fitted sk-toggleable__label-arrow\"><div><div>RandomForestRegressor</div></div><div><a class=\"sk-estimator-doc-link fitted\" rel=\"noreferrer\" target=\"_blank\" href=\"https://scikit-learn.org/1.6/modules/generated/sklearn.ensemble.RandomForestRegressor.html\">?<span>Documentation for RandomForestRegressor</span></a><span class=\"sk-estimator-doc-link fitted\">i<span>Fitted</span></span></div></label><div class=\"sk-toggleable__content fitted\"><pre>RandomForestRegressor()</pre></div> </div></div></div></div>"
      ]
     },
     "execution_count": 75,
     "metadata": {},
     "output_type": "execute_result"
    }
   ],
   "execution_count": 75
  },
  {
   "cell_type": "code",
   "id": "71d8a391-aa08-4c02-b95f-31cd124e78fb",
   "metadata": {
    "ExecuteTime": {
     "end_time": "2025-04-22T01:01:13.855091Z",
     "start_time": "2025-04-22T01:01:13.779393Z"
    }
   },
   "source": [
    "predictions = model.predict(X_test)"
   ],
   "outputs": [],
   "execution_count": 76
  },
  {
   "cell_type": "code",
   "id": "0516c84a-e0b5-4d3d-8619-18c71fcb3f96",
   "metadata": {
    "ExecuteTime": {
     "end_time": "2025-04-22T01:01:13.886088Z",
     "start_time": "2025-04-22T01:01:13.859910Z"
    }
   },
   "source": [
    "predictions"
   ],
   "outputs": [
    {
     "data": {
      "text/plain": [
       "array([ 5.70088333,  6.98903333,  6.39092262,  5.3943    ,  6.52823333,\n",
       "        7.80534976,  7.72518167,  7.73507333,  6.35210397,  7.18169667,\n",
       "        7.58576667,  7.09491667,  7.7516    ,  8.2368    ,  7.83884881,\n",
       "        7.1591    ,  6.96653206,  6.83266857,  7.7664    ,  9.6397    ,\n",
       "        6.40322333,  6.5933    ,  5.96353   ,  7.64331667,  7.02206667,\n",
       "        6.95592   ,  7.98066   ,  7.46948   ,  5.01035286,  6.96639952,\n",
       "        4.91029317,  7.28848667,  6.74215073,  5.83746667,  5.9419    ,\n",
       "        7.73461667,  7.292375  ,  6.98920167,  7.40098333,  7.0298    ,\n",
       "        6.41171667,  8.8768    ,  6.63024048,  8.5308    ,  8.7277    ,\n",
       "        6.47097619,  8.85615   ,  7.0307    ,  6.5535    ,  8.90355   ,\n",
       "        6.7070397 ,  6.65028667,  6.75436667,  7.2207649 ,  7.06946667,\n",
       "        7.29286667,  7.85505   ,  6.58249381,  8.799275  ,  6.9243719 ,\n",
       "        7.073245  ,  6.71002   ,  5.2772    ,  7.33196667,  7.32214916,\n",
       "        6.79558296,  6.68579667,  6.45286524,  6.48541667,  4.8531    ,\n",
       "        6.6639206 ,  5.257     ,  6.9054    ,  8.19216667,  7.9832    ,\n",
       "        7.25633333,  7.24596667,  6.35210397,  6.3466    ,  7.75902864,\n",
       "        6.51413952,  6.73106667,  7.08254679,  7.125     ,  6.5491919 ,\n",
       "        6.24456667,  6.9660963 ,  7.30705   ,  7.19553333,  6.86742857,\n",
       "        6.88527452,  6.80864127,  7.08713972,  8.83464   ,  6.38880714,\n",
       "        8.80393333,  6.56805   ,  6.87384   ,  8.20529667,  7.05436667,\n",
       "        7.6424    ,  7.25823333,  5.79603333,  5.1287    ,  9.0572    ,\n",
       "        6.24786964,  7.11537333,  8.1679    ,  6.18864286,  6.4472    ,\n",
       "        6.0462    ,  7.388725  ,  6.6904131 ,  7.3496    ,  7.7098    ,\n",
       "        6.11175714,  8.8069    ,  7.14122   ,  6.69579   ,  8.46867048,\n",
       "        6.64049405,  6.4979625 ,  7.626475  ,  6.57726667,  8.02868333,\n",
       "        7.50412167,  5.6462    ,  7.73425   ,  5.25368   ,  6.88073333,\n",
       "        7.36884667,  7.35948333,  6.69377   ,  4.81655   ,  8.92390833,\n",
       "        6.32516667,  6.57116667,  7.324165  ,  6.62358   ,  7.08254679,\n",
       "        5.7222    ,  5.4038519 ,  7.54772429,  7.00328857,  7.10316   ,\n",
       "        6.27333333,  7.158     ,  6.7033    ,  6.8427    ,  7.37712167,\n",
       "        7.17152167,  7.29844762,  7.34962333,  6.74215073,  7.18      ,\n",
       "        7.8214    ,  7.9832    ,  8.546425  ,  7.9832    ,  6.34666667,\n",
       "        6.3175    ,  6.30006667,  6.80281667,  5.90411786,  5.6685977 ,\n",
       "        7.51376667,  7.61094333,  7.32444929,  9.2403    ,  7.771935  ,\n",
       "        7.1154403 ,  6.00306667,  6.35      ,  7.54276167,  6.45286524,\n",
       "        7.94474198,  7.98851667,  6.90505   ,  6.923     ,  6.18155794,\n",
       "        6.2244    ,  8.1903    ,  7.3102    ,  7.89594333,  6.80883333,\n",
       "        7.41271667,  6.38880714,  7.22148083,  6.62041903,  7.09570048,\n",
       "        7.11161667,  7.03421881,  6.49303333,  5.726835  ,  8.155025  ,\n",
       "        6.8193    ,  8.83731667,  7.26      ,  6.36556667,  8.62494   ,\n",
       "        7.29395833,  7.02880833,  6.26658333,  6.05775556,  7.53916722,\n",
       "        5.53183333,  9.15536667,  6.3027    ,  6.56166667,  6.65446715,\n",
       "        8.1873    ,  7.28      ,  5.60555   ,  7.65720774,  8.6261    ,\n",
       "        7.1268    ,  6.44526238,  6.9716    ,  8.657165  ,  8.44818333,\n",
       "        5.76842238,  8.07284   ,  7.0255    ,  7.5947    ,  6.36301333,\n",
       "        5.612085  ,  6.9613    ,  7.63455   ,  6.642965  ,  6.78182   ,\n",
       "        5.491065  ,  7.50238143,  6.21270714,  7.72465833,  7.62371198,\n",
       "        7.452965  ,  6.1533    ,  5.98583333,  9.147     ,  5.2554    ,\n",
       "        8.12127333,  7.61755071,  7.61094333,  6.63827595,  5.97932357,\n",
       "        6.3215    ,  5.29955   ,  6.86742857,  7.16002683,  7.14      ,\n",
       "        6.9739    ,  8.90778333,  8.0945    ,  6.62041903,  7.7777619 ,\n",
       "        6.471175  ,  7.42168333,  8.68955833,  5.33185833,  6.86742857,\n",
       "        6.543825  ,  8.26359762,  7.22214   ,  5.65438222,  8.16531667,\n",
       "        6.31287714,  7.06046667,  7.27428711,  7.84586488,  7.86483167,\n",
       "        7.7141119 ,  7.3001    ,  7.97296833,  7.84288889,  7.184455  ,\n",
       "        9.6319    ,  8.72033333,  7.18946667,  5.47707   ,  5.0476723 ,\n",
       "        6.9301    ,  5.7694    ,  9.3302    ,  6.1309431 ,  6.36923333,\n",
       "        5.923405  ,  6.5827    ,  7.14696667,  5.8524475 ,  9.029845  ,\n",
       "        6.4246    ,  5.2267    ,  6.14001381,  8.7348    ,  7.56119667,\n",
       "        6.35071667,  6.59247751,  7.548675  ,  6.78170429,  5.82304333,\n",
       "        5.91705   ,  6.65550619,  6.99395   ,  7.2457    ,  5.55466667,\n",
       "        7.324165  ,  6.0503    ,  7.18866667,  7.39381   ,  6.62041903,\n",
       "        6.5352    ,  6.43045   ,  7.53269524,  6.8921    ,  7.77241   ,\n",
       "        5.84995556,  6.40496786,  7.48291   ,  8.18225   ,  7.324165  ,\n",
       "        7.16389476,  7.47997298,  7.16389476,  5.2192    ,  5.48791333,\n",
       "        6.53093929,  9.0878    ,  7.09152857,  7.16503738,  6.88527452,\n",
       "        7.542075  ,  6.78182   ,  8.970825  ,  6.90697661,  8.1679    ,\n",
       "        6.825     ,  6.29979333,  6.80883333,  7.9707096 ,  6.07018714,\n",
       "        7.17796667,  7.01      ,  6.9686    ,  7.24871262,  6.32      ,\n",
       "        7.2588    ,  6.94424167,  7.13671833,  7.17027333,  6.3943    ,\n",
       "        7.17906667,  6.6033    ,  9.46      ,  8.2799    ,  6.59442333,\n",
       "        7.5007755 ,  7.2275    ,  6.6616    ,  7.2919    ,  9.039     ,\n",
       "        6.38965   ,  7.61755071,  6.589945  ,  8.247     ,  7.55115   ,\n",
       "        8.41035833,  8.07641175,  6.66553452,  6.2244    ,  6.29784095,\n",
       "        8.18225   ,  6.65446715,  7.2207649 ,  6.5536    ,  7.50199667,\n",
       "        6.69579   ,  7.40429167,  6.57116667,  7.24876667,  9.06662   ,\n",
       "        7.3       ,  7.93905   ,  8.2084    ,  8.02113258,  7.58403577,\n",
       "        6.83989167,  6.6033    ,  5.56985   ,  4.99407758,  6.88490833,\n",
       "        6.61733333,  6.45788333,  8.2297    ,  8.03889333,  6.64466667,\n",
       "        6.42499524,  6.9660963 ,  8.8912    ,  7.13538667,  6.87119048,\n",
       "        6.61376667,  6.99352833,  7.61094333,  7.2827    ,  7.27754667,\n",
       "        5.7348    ,  8.86103   ,  7.1783    ,  8.7373    ,  6.77504167,\n",
       "        7.63239167,  7.27428711,  6.40971333,  7.37712167,  6.3166    ,\n",
       "        6.8475    ,  7.772275  ,  7.345195  ,  6.80864127,  7.57668571,\n",
       "        7.40429167,  6.393     ,  8.3856    ,  6.04362933,  7.28      ,\n",
       "        9.04205   ,  5.353     ,  7.83776857,  7.06086056,  8.21886667,\n",
       "        5.79866667,  6.83859   ,  7.48291   ,  6.962     ,  7.26      ,\n",
       "        6.5025    ,  7.58396024,  9.6429    ,  9.4504    ,  7.82145833,\n",
       "        7.09683333,  8.77093333,  7.815885  ,  8.864     ,  7.66942861,\n",
       "        6.93603667,  7.50238143,  8.12568222,  6.55463333,  6.98920167,\n",
       "        6.59035   ,  6.67514148,  8.16531667,  6.47969833,  8.02868333,\n",
       "        7.43572762,  8.8069    ,  7.12412   ,  7.10016667,  6.6818    ,\n",
       "        7.63432   ,  9.4005    ,  7.76515167,  7.4388    ,  9.5158    ,\n",
       "        8.93228333,  6.82471905,  5.65438222,  6.55      ,  7.0048    ,\n",
       "        6.3388    ,  6.0246    ,  8.675445  ,  6.93981917, 10.0261    ,\n",
       "        7.101825  ,  4.9644825 ,  6.81804833,  5.923755  ,  7.38437921,\n",
       "        7.55934444,  6.29616667,  7.0307    ,  6.64355   ,  6.40524524,\n",
       "        6.7567    ,  7.01533333,  7.01945231,  6.311215  ,  6.23731333,\n",
       "        7.61094333,  6.93998325,  8.22614357,  7.324165  ,  7.03166667,\n",
       "        4.6533    ,  6.46171667,  7.31195   ,  6.35013333,  6.72925667,\n",
       "        9.51496   ,  6.65257   ,  7.122     ,  5.40356   ,  8.15215   ,\n",
       "        8.985     ,  6.579     ,  7.04542583,  6.0161    ,  8.2676    ,\n",
       "        7.69924667,  6.68300163,  6.7345    ,  6.81191071,  7.21838   ,\n",
       "        6.455     ,  6.87176667,  8.14933333,  7.13853333,  6.60908167,\n",
       "        6.688275  ,  9.7467    ,  5.87201667,  6.81805   ,  8.16083333,\n",
       "        6.36301333,  7.61354667,  5.68014333,  4.94767504,  7.94474198,\n",
       "        7.63039952,  6.3279    ,  7.16649917,  7.75902864,  6.579     ,\n",
       "        6.64033264,  6.1041    ,  5.71271167,  7.86114698,  7.28974   ,\n",
       "        7.47998833,  6.933275  ,  7.75049833,  7.9832    ,  7.84586488,\n",
       "        7.18228   ,  5.0649    ,  8.752275  ,  8.63183333,  7.2299975 ,\n",
       "        6.46633333,  9.461     ,  7.72016667,  7.5871681 ,  6.0858    ,\n",
       "        6.08858667,  7.1586    ,  5.32101   ,  6.71002   ,  7.61755071,\n",
       "        9.68248   ,  8.387775  ,  8.12568222,  6.72178904,  9.2427    ,\n",
       "        5.18909667,  7.93333095,  6.84919333,  7.096     ,  8.75158333,\n",
       "        7.20725   ,  7.4204    ,  5.4049    ,  7.36602   ,  7.9832    ,\n",
       "        5.48791333,  5.3286    ,  7.00937299,  8.41841   ,  6.42262857,\n",
       "        6.44825667,  5.29074762,  9.1122    ,  6.43144   ,  5.29511667,\n",
       "        7.02962024,  8.910625  ,  6.52566667,  7.16649917,  6.93998325,\n",
       "        6.2006231 ,  9.37594   ,  7.38005833,  6.73105833,  8.428375  ,\n",
       "        7.223385  ,  8.22543333,  7.10468333,  7.78063333,  7.04883333,\n",
       "        6.82471905,  9.50005   ,  7.05056667,  7.61755071,  6.227     ,\n",
       "        7.10953788,  6.02712667,  7.25165   ,  6.32025   ,  6.61941667,\n",
       "        5.36184095,  6.81754167,  7.12454545,  8.542655  ,  7.32444929,\n",
       "        5.89847667,  7.13538667,  6.2868    ,  6.86526667,  7.99002   ,\n",
       "        7.1047    ,  6.72839167,  5.35458056,  9.0103    ,  7.86603524,\n",
       "        7.38626333,  7.21246667,  6.93998325,  7.228175  ,  7.26      ,\n",
       "        7.2207649 ,  5.77984405,  5.6225675 ,  7.19326917,  6.842135  ,\n",
       "        6.87384   ,  6.51778444,  7.1595    ,  9.4158    ,  6.68300163,\n",
       "        6.31374286,  5.232875  ,  6.494725  ,  6.3475    ,  8.5859    ,\n",
       "        7.39781167,  5.815835  ,  7.7141119 ,  7.11966667,  7.37448421,\n",
       "        5.48791333,  7.21607727,  6.943     ,  6.62358   ,  8.0605    ,\n",
       "        7.47998833,  6.5401    ,  6.9660963 ,  7.2827    ,  7.24053333,\n",
       "        6.345     ,  6.87119048,  6.08819   ,  8.0621    ,  6.20155   ,\n",
       "        6.35801667,  7.2009    ,  6.52303833,  7.52637   ,  6.67073333,\n",
       "        5.98161667,  6.88145143,  7.01533333,  7.54302   ,  8.1488    ,\n",
       "        7.64169   ,  6.4566    ,  6.51378571,  9.5121    ,  6.53455   ,\n",
       "        7.47875452,  5.566     ,  7.324165  ,  6.54753333,  6.96653206,\n",
       "        7.49684333,  6.37085   ,  7.1178    ,  8.242525  ,  7.3291    ,\n",
       "        7.10633333,  8.67964976,  7.94474198,  7.00335   ,  7.2207649 ,\n",
       "        7.01945231,  6.33036667,  7.82748   ,  8.70055833,  6.22282381,\n",
       "        7.20828909,  7.86196667,  6.37878   ,  7.331     ,  5.90501667,\n",
       "        7.42008071,  8.2884    ,  6.55502   ,  8.89779667,  6.2244    ,\n",
       "        7.01945231,  6.54509038,  7.14263333,  9.3481    ,  7.29395833,\n",
       "        6.79600357,  6.68557143,  5.11500921,  6.39705   ,  9.5476    ,\n",
       "        6.62932   ,  7.14141392,  8.48665833,  7.16649917,  6.4974    ,\n",
       "        6.82      ,  6.48541667,  7.10182571,  7.49555619,  6.0714    ,\n",
       "        5.10214   ,  7.1154403 ,  8.58475667,  6.83109524,  5.843075  ,\n",
       "        6.49493333,  9.39025   ,  6.73902024,  6.4737    ,  6.15189841,\n",
       "        7.2355    ,  7.75188   ,  7.0059    ,  9.7653    ,  8.58523333,\n",
       "        5.04302476,  6.65446715,  6.35604571,  7.94474198,  6.5933    ,\n",
       "        6.67293   ,  9.5301    ,  6.472965  ,  7.39381   ,  9.313     ,\n",
       "        7.59480833,  6.19232595,  7.513     ,  7.16649917,  5.77552452,\n",
       "        8.19212484,  6.64049405,  5.79241   ,  7.47997298,  7.18      ,\n",
       "        7.195     ,  6.732     ,  6.0318575 ,  5.92336667,  7.25203333,\n",
       "        6.51413952,  7.8286    ,  5.9893    ,  6.68300163,  5.97569167,\n",
       "        5.94056667,  6.82448524,  6.4753    ,  9.5797    ,  7.78784619,\n",
       "        6.64938667,  5.516725  ,  6.83109524,  7.57444   ,  6.94050833,\n",
       "        7.29015   ,  7.3049    ,  6.9709    ,  7.37683333,  6.65446715,\n",
       "        6.357     ,  6.40496786,  6.48073333,  6.95267209,  6.8589    ,\n",
       "        6.49304857,  6.40899167,  6.4911    ,  6.655625  ,  7.78442   ,\n",
       "        6.4612    ,  7.2128    ,  7.3592298 ,  8.4322    ,  7.59480833])"
      ]
     },
     "execution_count": 77,
     "metadata": {},
     "output_type": "execute_result"
    }
   ],
   "execution_count": 77
  },
  {
   "cell_type": "code",
   "id": "62c51ec1-5956-44eb-b830-5282fdd9287d",
   "metadata": {
    "ExecuteTime": {
     "end_time": "2025-04-22T01:01:13.916819Z",
     "start_time": "2025-04-22T01:01:13.889283Z"
    }
   },
   "source": [
    "y_test.nlargest(10)"
   ],
   "outputs": [
    {
     "data": {
      "text/plain": [
       "802     10.00\n",
       "337     10.00\n",
       "2886     9.96\n",
       "71       9.96\n",
       "336      9.89\n",
       "3136     9.89\n",
       "73       9.85\n",
       "694      9.80\n",
       "2910     9.80\n",
       "753      9.80\n",
       "Name: pChEMBL Value, dtype: float64"
      ]
     },
     "execution_count": 78,
     "metadata": {},
     "output_type": "execute_result"
    }
   ],
   "execution_count": 78
  },
  {
   "cell_type": "code",
   "id": "234743f3-f732-448d-8c24-946ae08efb53",
   "metadata": {
    "ExecuteTime": {
     "end_time": "2025-04-22T01:01:14.045306Z",
     "start_time": "2025-04-22T01:01:13.920492Z"
    }
   },
   "source": [
    "model.score(X_train, y_train)"
   ],
   "outputs": [
    {
     "data": {
      "text/plain": [
       "0.9078479201390367"
      ]
     },
     "execution_count": 79,
     "metadata": {},
     "output_type": "execute_result"
    }
   ],
   "execution_count": 79
  },
  {
   "cell_type": "code",
   "id": "b59ba8fb",
   "metadata": {
    "ExecuteTime": {
     "end_time": "2025-04-22T01:01:14.111616Z",
     "start_time": "2025-04-22T01:01:14.047481Z"
    }
   },
   "source": [
    "model.score(X_test, y_test)"
   ],
   "outputs": [
    {
     "data": {
      "text/plain": [
       "0.6737666978160045"
      ]
     },
     "execution_count": 80,
     "metadata": {},
     "output_type": "execute_result"
    }
   ],
   "execution_count": 80
  },
  {
   "cell_type": "code",
   "id": "ae7f30c6-506e-4afd-b441-0b8f9450c17b",
   "metadata": {
    "ExecuteTime": {
     "end_time": "2025-04-22T01:01:14.120528Z",
     "start_time": "2025-04-22T01:01:14.113749Z"
    }
   },
   "source": [
    "from sklearn.metrics import mean_squared_error, r2_score"
   ],
   "outputs": [],
   "execution_count": 81
  },
  {
   "cell_type": "code",
   "id": "97e16745-de58-43f1-a061-90a15e68f980",
   "metadata": {
    "ExecuteTime": {
     "end_time": "2025-04-22T01:01:14.148821Z",
     "start_time": "2025-04-22T01:01:14.122599Z"
    }
   },
   "source": [
    "mse = mean_squared_error(y_test, predictions)"
   ],
   "outputs": [],
   "execution_count": 82
  },
  {
   "cell_type": "code",
   "id": "3b5b814f",
   "metadata": {
    "ExecuteTime": {
     "end_time": "2025-04-22T01:01:14.170394Z",
     "start_time": "2025-04-22T01:01:14.157353Z"
    }
   },
   "source": [
    "rscore=r2_score(y_test, predictions)"
   ],
   "outputs": [],
   "execution_count": 83
  },
  {
   "cell_type": "code",
   "id": "6970edea",
   "metadata": {
    "ExecuteTime": {
     "end_time": "2025-04-22T01:01:14.196555Z",
     "start_time": "2025-04-22T01:01:14.173448Z"
    }
   },
   "source": [
    "rscore"
   ],
   "outputs": [
    {
     "data": {
      "text/plain": [
       "0.6737666978160045"
      ]
     },
     "execution_count": 84,
     "metadata": {},
     "output_type": "execute_result"
    }
   ],
   "execution_count": 84
  },
  {
   "cell_type": "code",
   "id": "854754e5-c09c-4f70-8a12-0e9e1afe8612",
   "metadata": {
    "ExecuteTime": {
     "end_time": "2025-04-22T01:01:14.219159Z",
     "start_time": "2025-04-22T01:01:14.199170Z"
    }
   },
   "source": [
    "mse"
   ],
   "outputs": [
    {
     "data": {
      "text/plain": [
       "0.4310232640854521"
      ]
     },
     "execution_count": 85,
     "metadata": {},
     "output_type": "execute_result"
    }
   ],
   "execution_count": 85
  },
  {
   "cell_type": "code",
   "id": "e4b6a019-c734-4a79-9125-0bf0fa1c91fb",
   "metadata": {
    "ExecuteTime": {
     "end_time": "2025-04-22T01:01:14.236866Z",
     "start_time": "2025-04-22T01:01:14.222252Z"
    }
   },
   "source": [
    "import numpy as np"
   ],
   "outputs": [],
   "execution_count": 86
  },
  {
   "cell_type": "code",
   "id": "ef0c31da-1d44-41ff-b735-0f8a86b0fb03",
   "metadata": {
    "ExecuteTime": {
     "end_time": "2025-04-22T01:01:14.259558Z",
     "start_time": "2025-04-22T01:01:14.238870Z"
    }
   },
   "source": [
    "rmse = np.sqrt(mse)"
   ],
   "outputs": [],
   "execution_count": 87
  },
  {
   "cell_type": "code",
   "id": "f33bc124-e647-4609-833b-9a6870eeff6c",
   "metadata": {
    "ExecuteTime": {
     "end_time": "2025-04-22T01:01:14.284928Z",
     "start_time": "2025-04-22T01:01:14.262751Z"
    }
   },
   "source": [
    "rmse"
   ],
   "outputs": [
    {
     "data": {
      "text/plain": [
       "np.float64(0.6565236203560784)"
      ]
     },
     "execution_count": 88,
     "metadata": {},
     "output_type": "execute_result"
    }
   ],
   "execution_count": 88
  },
  {
   "cell_type": "markdown",
   "id": "6470fb33",
   "metadata": {},
   "source": [
    "Project work"
   ]
  },
  {
   "cell_type": "markdown",
   "id": "13c7b117",
   "metadata": {},
   "source": [
    "Nine molecular descriptors\n",
    "molecular weight\n",
    "LogP value \n",
    "number of Hbonds donors\n",
    "number of Hbonds acceptors\n",
    "fraction of sp3 hybridized carbon\n",
    "number of aromatic bonds\n",
    "number of rings\n",
    "topologiccal polar surface area (TPSA) value \n",
    "number of aromatic rings"
   ]
  },
  {
   "cell_type": "code",
   "id": "cb6bb9e6",
   "metadata": {
    "ExecuteTime": {
     "end_time": "2025-04-22T01:01:14.329621Z",
     "start_time": "2025-04-22T01:01:14.287056Z"
    }
   },
   "source": [
    "ex_data = pd.read_csv(\"C:/Users/USER/Documents/Schrodinger/Anthony CADD screening/Export_test_after_maestro_reload.csv\", delimiter=\",\")"
   ],
   "outputs": [],
   "execution_count": 89
  },
  {
   "cell_type": "code",
   "id": "c87c1957",
   "metadata": {
    "ExecuteTime": {
     "end_time": "2025-04-22T01:01:14.370834Z",
     "start_time": "2025-04-22T01:01:14.331913Z"
    }
   },
   "source": [
    "ex_data"
   ],
   "outputs": [
    {
     "data": {
      "text/plain": [
       "   Stars     Title  Entry ID       Entry Name           Date Added  \\\n",
       "0    NaN  10151874        69  Valoneic acid.1  2024-12-27 15:43:10   \n",
       "1    NaN   5281643        70     Hyperoside.1  2024-12-27 15:43:10   \n",
       "2    NaN   3332212        71      Digalloyl.1  2024-12-27 15:43:10   \n",
       "3    NaN    689043        72   Caffeic acid.1  2024-12-27 15:43:10   \n",
       "\n",
       "         Date Modified  hetnum  input  cmdline  orig ion str  ...  \\\n",
       "0  2024-12-27 15:43:10     NaN    NaN      NaN           NaN  ...   \n",
       "1  2024-12-27 15:43:10     NaN    NaN      NaN           NaN  ...   \n",
       "2  2024-12-27 15:43:10     NaN    NaN      NaN           NaN  ...   \n",
       "3  2024-12-27 15:43:10     NaN    NaN      NaN           NaN  ...   \n",
       "\n",
       "   PhaseScreenScore  Group Fitness  HypoID-1  ScreenID  Molecule ChEMBL ID  \\\n",
       "0               NaN            NaN       NaN       NaN                 NaN   \n",
       "1               NaN            NaN       NaN       NaN                 NaN   \n",
       "2               NaN            NaN       NaN       NaN                 NaN   \n",
       "3               NaN            NaN       NaN       NaN                 NaN   \n",
       "\n",
       "   Smiles  pChEMBL Value  enh stereo 1  enh stereo 2  hydrophobic contacts  \n",
       "0     NaN            NaN           NaN           NaN                   NaN  \n",
       "1     NaN            NaN           NaN           NaN                   NaN  \n",
       "2     NaN            NaN           NaN           NaN                   NaN  \n",
       "3     NaN            NaN           NaN           NaN                   NaN  \n",
       "\n",
       "[4 rows x 299 columns]"
      ],
      "text/html": [
       "<div>\n",
       "<style scoped>\n",
       "    .dataframe tbody tr th:only-of-type {\n",
       "        vertical-align: middle;\n",
       "    }\n",
       "\n",
       "    .dataframe tbody tr th {\n",
       "        vertical-align: top;\n",
       "    }\n",
       "\n",
       "    .dataframe thead th {\n",
       "        text-align: right;\n",
       "    }\n",
       "</style>\n",
       "<table border=\"1\" class=\"dataframe\">\n",
       "  <thead>\n",
       "    <tr style=\"text-align: right;\">\n",
       "      <th></th>\n",
       "      <th>Stars</th>\n",
       "      <th>Title</th>\n",
       "      <th>Entry ID</th>\n",
       "      <th>Entry Name</th>\n",
       "      <th>Date Added</th>\n",
       "      <th>Date Modified</th>\n",
       "      <th>hetnum</th>\n",
       "      <th>input</th>\n",
       "      <th>cmdline</th>\n",
       "      <th>orig ion str</th>\n",
       "      <th>...</th>\n",
       "      <th>PhaseScreenScore</th>\n",
       "      <th>Group Fitness</th>\n",
       "      <th>HypoID-1</th>\n",
       "      <th>ScreenID</th>\n",
       "      <th>Molecule ChEMBL ID</th>\n",
       "      <th>Smiles</th>\n",
       "      <th>pChEMBL Value</th>\n",
       "      <th>enh stereo 1</th>\n",
       "      <th>enh stereo 2</th>\n",
       "      <th>hydrophobic contacts</th>\n",
       "    </tr>\n",
       "  </thead>\n",
       "  <tbody>\n",
       "    <tr>\n",
       "      <th>0</th>\n",
       "      <td>NaN</td>\n",
       "      <td>10151874</td>\n",
       "      <td>69</td>\n",
       "      <td>Valoneic acid.1</td>\n",
       "      <td>2024-12-27 15:43:10</td>\n",
       "      <td>2024-12-27 15:43:10</td>\n",
       "      <td>NaN</td>\n",
       "      <td>NaN</td>\n",
       "      <td>NaN</td>\n",
       "      <td>NaN</td>\n",
       "      <td>...</td>\n",
       "      <td>NaN</td>\n",
       "      <td>NaN</td>\n",
       "      <td>NaN</td>\n",
       "      <td>NaN</td>\n",
       "      <td>NaN</td>\n",
       "      <td>NaN</td>\n",
       "      <td>NaN</td>\n",
       "      <td>NaN</td>\n",
       "      <td>NaN</td>\n",
       "      <td>NaN</td>\n",
       "    </tr>\n",
       "    <tr>\n",
       "      <th>1</th>\n",
       "      <td>NaN</td>\n",
       "      <td>5281643</td>\n",
       "      <td>70</td>\n",
       "      <td>Hyperoside.1</td>\n",
       "      <td>2024-12-27 15:43:10</td>\n",
       "      <td>2024-12-27 15:43:10</td>\n",
       "      <td>NaN</td>\n",
       "      <td>NaN</td>\n",
       "      <td>NaN</td>\n",
       "      <td>NaN</td>\n",
       "      <td>...</td>\n",
       "      <td>NaN</td>\n",
       "      <td>NaN</td>\n",
       "      <td>NaN</td>\n",
       "      <td>NaN</td>\n",
       "      <td>NaN</td>\n",
       "      <td>NaN</td>\n",
       "      <td>NaN</td>\n",
       "      <td>NaN</td>\n",
       "      <td>NaN</td>\n",
       "      <td>NaN</td>\n",
       "    </tr>\n",
       "    <tr>\n",
       "      <th>2</th>\n",
       "      <td>NaN</td>\n",
       "      <td>3332212</td>\n",
       "      <td>71</td>\n",
       "      <td>Digalloyl.1</td>\n",
       "      <td>2024-12-27 15:43:10</td>\n",
       "      <td>2024-12-27 15:43:10</td>\n",
       "      <td>NaN</td>\n",
       "      <td>NaN</td>\n",
       "      <td>NaN</td>\n",
       "      <td>NaN</td>\n",
       "      <td>...</td>\n",
       "      <td>NaN</td>\n",
       "      <td>NaN</td>\n",
       "      <td>NaN</td>\n",
       "      <td>NaN</td>\n",
       "      <td>NaN</td>\n",
       "      <td>NaN</td>\n",
       "      <td>NaN</td>\n",
       "      <td>NaN</td>\n",
       "      <td>NaN</td>\n",
       "      <td>NaN</td>\n",
       "    </tr>\n",
       "    <tr>\n",
       "      <th>3</th>\n",
       "      <td>NaN</td>\n",
       "      <td>689043</td>\n",
       "      <td>72</td>\n",
       "      <td>Caffeic acid.1</td>\n",
       "      <td>2024-12-27 15:43:10</td>\n",
       "      <td>2024-12-27 15:43:10</td>\n",
       "      <td>NaN</td>\n",
       "      <td>NaN</td>\n",
       "      <td>NaN</td>\n",
       "      <td>NaN</td>\n",
       "      <td>...</td>\n",
       "      <td>NaN</td>\n",
       "      <td>NaN</td>\n",
       "      <td>NaN</td>\n",
       "      <td>NaN</td>\n",
       "      <td>NaN</td>\n",
       "      <td>NaN</td>\n",
       "      <td>NaN</td>\n",
       "      <td>NaN</td>\n",
       "      <td>NaN</td>\n",
       "      <td>NaN</td>\n",
       "    </tr>\n",
       "  </tbody>\n",
       "</table>\n",
       "<p>4 rows × 299 columns</p>\n",
       "</div>"
      ]
     },
     "execution_count": 90,
     "metadata": {},
     "output_type": "execute_result"
    }
   ],
   "execution_count": 90
  },
  {
   "cell_type": "code",
   "id": "1debf80b",
   "metadata": {
    "ExecuteTime": {
     "end_time": "2025-04-22T01:01:14.396696Z",
     "start_time": "2025-04-22T01:01:14.374177Z"
    }
   },
   "source": [
    "\n",
    "ex_data.columns"
   ],
   "outputs": [
    {
     "data": {
      "text/plain": [
       "Index(['Stars', 'Title', 'Entry ID', 'Entry Name', 'Date Added',\n",
       "       'Date Modified', 'hetnum', 'input', 'cmdline', 'orig ion str',\n",
       "       ...\n",
       "       'PhaseScreenScore', 'Group Fitness', 'HypoID-1', 'ScreenID',\n",
       "       'Molecule ChEMBL ID', 'Smiles', 'pChEMBL Value', 'enh stereo 1',\n",
       "       'enh stereo 2', 'hydrophobic contacts'],\n",
       "      dtype='object', length=299)"
      ]
     },
     "execution_count": 91,
     "metadata": {},
     "output_type": "execute_result"
    }
   ],
   "execution_count": 91
  },
  {
   "cell_type": "code",
   "id": "d0da59f1",
   "metadata": {
    "ExecuteTime": {
     "end_time": "2025-04-22T01:01:14.424761Z",
     "start_time": "2025-04-22T01:01:14.400027Z"
    }
   },
   "source": [
    "ex_data = ex_data[['Title', 'PUBCHEM_OPENEYE_CAN_SMILES']]\n",
    "ex_data"
   ],
   "outputs": [
    {
     "data": {
      "text/plain": [
       "      Title                         PUBCHEM_OPENEYE_CAN_SMILES\n",
       "0  10151874  C1=C2C3=C(C(=C1O)O)OC(=O)C4=CC(=C(C(=C43)OC2=O...\n",
       "1   5281643  C1=CC(=C(C=C1C2=C(C(=O)C3=C(C=C(C=C3O2)O)O)OC4...\n",
       "2   3332212  C1=C(C=C(C(=C1O)O)O)C(=O)OCC2C(C(C(C(O2)OC(=O)...\n",
       "3    689043                         C1=CC(=C(C=C1C=CC(=O)O)O)O"
      ],
      "text/html": [
       "<div>\n",
       "<style scoped>\n",
       "    .dataframe tbody tr th:only-of-type {\n",
       "        vertical-align: middle;\n",
       "    }\n",
       "\n",
       "    .dataframe tbody tr th {\n",
       "        vertical-align: top;\n",
       "    }\n",
       "\n",
       "    .dataframe thead th {\n",
       "        text-align: right;\n",
       "    }\n",
       "</style>\n",
       "<table border=\"1\" class=\"dataframe\">\n",
       "  <thead>\n",
       "    <tr style=\"text-align: right;\">\n",
       "      <th></th>\n",
       "      <th>Title</th>\n",
       "      <th>PUBCHEM_OPENEYE_CAN_SMILES</th>\n",
       "    </tr>\n",
       "  </thead>\n",
       "  <tbody>\n",
       "    <tr>\n",
       "      <th>0</th>\n",
       "      <td>10151874</td>\n",
       "      <td>C1=C2C3=C(C(=C1O)O)OC(=O)C4=CC(=C(C(=C43)OC2=O...</td>\n",
       "    </tr>\n",
       "    <tr>\n",
       "      <th>1</th>\n",
       "      <td>5281643</td>\n",
       "      <td>C1=CC(=C(C=C1C2=C(C(=O)C3=C(C=C(C=C3O2)O)O)OC4...</td>\n",
       "    </tr>\n",
       "    <tr>\n",
       "      <th>2</th>\n",
       "      <td>3332212</td>\n",
       "      <td>C1=C(C=C(C(=C1O)O)O)C(=O)OCC2C(C(C(C(O2)OC(=O)...</td>\n",
       "    </tr>\n",
       "    <tr>\n",
       "      <th>3</th>\n",
       "      <td>689043</td>\n",
       "      <td>C1=CC(=C(C=C1C=CC(=O)O)O)O</td>\n",
       "    </tr>\n",
       "  </tbody>\n",
       "</table>\n",
       "</div>"
      ]
     },
     "execution_count": 92,
     "metadata": {},
     "output_type": "execute_result"
    }
   ],
   "execution_count": 92
  },
  {
   "cell_type": "code",
   "id": "396d52d3",
   "metadata": {
    "ExecuteTime": {
     "end_time": "2025-04-22T01:01:14.444602Z",
     "start_time": "2025-04-22T01:01:14.428102Z"
    }
   },
   "source": [
    "# data = ex_data[['Entry ID', 'Entry Name', 'PUBCHEM_SMILES']]"
   ],
   "outputs": [],
   "execution_count": 93
  },
  {
   "cell_type": "code",
   "id": "be1c7ec9",
   "metadata": {
    "ExecuteTime": {
     "end_time": "2025-04-22T01:01:14.468167Z",
     "start_time": "2025-04-22T01:01:14.446669Z"
    }
   },
   "source": [
    "data = ex_data [['Title', 'PUBCHEM_OPENEYE_CAN_SMILES']]"
   ],
   "outputs": [],
   "execution_count": 94
  },
  {
   "cell_type": "code",
   "id": "00ce1462",
   "metadata": {
    "ExecuteTime": {
     "end_time": "2025-04-22T01:01:14.501254Z",
     "start_time": "2025-04-22T01:01:14.471164Z"
    }
   },
   "source": [
    "#Create a RDkit molecule instance for each smiles\n",
    "data['Molecule'] = ex_data['PUBCHEM_OPENEYE_CAN_SMILES'].apply(Chem.MolFromSmiles)\n",
    "\n",
    "data"
   ],
   "outputs": [
    {
     "data": {
      "text/plain": [
       "      Title                         PUBCHEM_OPENEYE_CAN_SMILES  \\\n",
       "0  10151874  C1=C2C3=C(C(=C1O)O)OC(=O)C4=CC(=C(C(=C43)OC2=O...   \n",
       "1   5281643  C1=CC(=C(C=C1C2=C(C(=O)C3=C(C=C(C=C3O2)O)O)OC4...   \n",
       "2   3332212  C1=C(C=C(C(=C1O)O)O)C(=O)OCC2C(C(C(C(O2)OC(=O)...   \n",
       "3    689043                         C1=CC(=C(C=C1C=CC(=O)O)O)O   \n",
       "\n",
       "                                            Molecule  \n",
       "0  <rdkit.Chem.rdchem.Mol object at 0x0000025F752...  \n",
       "1  <rdkit.Chem.rdchem.Mol object at 0x0000025F752...  \n",
       "2  <rdkit.Chem.rdchem.Mol object at 0x0000025F752...  \n",
       "3  <rdkit.Chem.rdchem.Mol object at 0x0000025F752...  "
      ],
      "text/html": [
       "<div>\n",
       "<style scoped>\n",
       "    .dataframe tbody tr th:only-of-type {\n",
       "        vertical-align: middle;\n",
       "    }\n",
       "\n",
       "    .dataframe tbody tr th {\n",
       "        vertical-align: top;\n",
       "    }\n",
       "\n",
       "    .dataframe thead th {\n",
       "        text-align: right;\n",
       "    }\n",
       "</style>\n",
       "<table border=\"1\" class=\"dataframe\">\n",
       "  <thead>\n",
       "    <tr style=\"text-align: right;\">\n",
       "      <th></th>\n",
       "      <th>Title</th>\n",
       "      <th>PUBCHEM_OPENEYE_CAN_SMILES</th>\n",
       "      <th>Molecule</th>\n",
       "    </tr>\n",
       "  </thead>\n",
       "  <tbody>\n",
       "    <tr>\n",
       "      <th>0</th>\n",
       "      <td>10151874</td>\n",
       "      <td>C1=C2C3=C(C(=C1O)O)OC(=O)C4=CC(=C(C(=C43)OC2=O...</td>\n",
       "      <td>&lt;rdkit.Chem.rdchem.Mol object at 0x0000025F752...</td>\n",
       "    </tr>\n",
       "    <tr>\n",
       "      <th>1</th>\n",
       "      <td>5281643</td>\n",
       "      <td>C1=CC(=C(C=C1C2=C(C(=O)C3=C(C=C(C=C3O2)O)O)OC4...</td>\n",
       "      <td>&lt;rdkit.Chem.rdchem.Mol object at 0x0000025F752...</td>\n",
       "    </tr>\n",
       "    <tr>\n",
       "      <th>2</th>\n",
       "      <td>3332212</td>\n",
       "      <td>C1=C(C=C(C(=C1O)O)O)C(=O)OCC2C(C(C(C(O2)OC(=O)...</td>\n",
       "      <td>&lt;rdkit.Chem.rdchem.Mol object at 0x0000025F752...</td>\n",
       "    </tr>\n",
       "    <tr>\n",
       "      <th>3</th>\n",
       "      <td>689043</td>\n",
       "      <td>C1=CC(=C(C=C1C=CC(=O)O)O)O</td>\n",
       "      <td>&lt;rdkit.Chem.rdchem.Mol object at 0x0000025F752...</td>\n",
       "    </tr>\n",
       "  </tbody>\n",
       "</table>\n",
       "</div>"
      ]
     },
     "execution_count": 95,
     "metadata": {},
     "output_type": "execute_result"
    }
   ],
   "execution_count": 95
  },
  {
   "cell_type": "code",
   "id": "634d387c",
   "metadata": {
    "ExecuteTime": {
     "end_time": "2025-04-22T01:01:14.674519Z",
     "start_time": "2025-04-22T01:01:14.505692Z"
    }
   },
   "source": [
    "calculator = MoleculeDescriptors.MolecularDescriptorCalculator(des_list)\n",
    "descriptors = [calculator.CalcDescriptors(mol) for mol in data['Molecule']]\n",
    "\n",
    "# Create a new DataFrame with descriptors\n",
    "descriptors_data = pd.DataFrame(descriptors, columns=des_list)\n",
    "\n",
    "# Concatenate the original DataFrame with the descriptors DataFrame\n",
    "data_with_descriptors = pd.concat([data, descriptors_data], axis=1)\n",
    "\n",
    "# Display the resulting DataFrame\n",
    "data_with_descriptors.head()"
   ],
   "outputs": [
    {
     "data": {
      "text/plain": [
       "      Title                         PUBCHEM_OPENEYE_CAN_SMILES  \\\n",
       "0  10151874  C1=C2C3=C(C(=C1O)O)OC(=O)C4=CC(=C(C(=C43)OC2=O...   \n",
       "1   5281643  C1=CC(=C(C=C1C2=C(C(=O)C3=C(C=C(C=C3O2)O)O)OC4...   \n",
       "2   3332212  C1=C(C=C(C(=C1O)O)O)C(=O)OCC2C(C(C(C(O2)OC(=O)...   \n",
       "3    689043                         C1=CC(=C(C=C1C=CC(=O)O)O)O   \n",
       "\n",
       "                                            Molecule  MaxAbsEStateIndex  \\\n",
       "0  <rdkit.Chem.rdchem.Mol object at 0x0000025F752...          12.628551   \n",
       "1  <rdkit.Chem.rdchem.Mol object at 0x0000025F752...          13.246917   \n",
       "2  <rdkit.Chem.rdchem.Mol object at 0x0000025F752...          12.297021   \n",
       "3  <rdkit.Chem.rdchem.Mol object at 0x0000025F752...          10.125799   \n",
       "\n",
       "   MaxEStateIndex  MinAbsEStateIndex  MinEStateIndex       qed        SPS  \\\n",
       "0       12.628551           0.158009       -1.695297  0.114047  11.529412   \n",
       "1       13.246917           0.020114       -1.854276  0.228875  25.272727   \n",
       "2       12.297021           0.380921       -1.947960  0.177667  24.382353   \n",
       "3       10.125799           0.229190       -1.062440  0.471621  10.461538   \n",
       "\n",
       "     MolWt  ...  fr_sulfide  fr_sulfonamd  fr_sulfone  fr_term_acetylene  \\\n",
       "0  470.298  ...           0             0           0                  0   \n",
       "1  464.379  ...           0             0           0                  0   \n",
       "2  484.366  ...           0             0           0                  0   \n",
       "3  180.159  ...           0             0           0                  0   \n",
       "\n",
       "   fr_tetrazole  fr_thiazole  fr_thiocyan  fr_thiophene  fr_unbrch_alkane  \\\n",
       "0             0            0            0             0                 0   \n",
       "1             0            0            0             0                 0   \n",
       "2             0            0            0             0                 0   \n",
       "3             0            0            0             0                 0   \n",
       "\n",
       "   fr_urea  \n",
       "0        0  \n",
       "1        0  \n",
       "2        0  \n",
       "3        0  \n",
       "\n",
       "[4 rows x 220 columns]"
      ],
      "text/html": [
       "<div>\n",
       "<style scoped>\n",
       "    .dataframe tbody tr th:only-of-type {\n",
       "        vertical-align: middle;\n",
       "    }\n",
       "\n",
       "    .dataframe tbody tr th {\n",
       "        vertical-align: top;\n",
       "    }\n",
       "\n",
       "    .dataframe thead th {\n",
       "        text-align: right;\n",
       "    }\n",
       "</style>\n",
       "<table border=\"1\" class=\"dataframe\">\n",
       "  <thead>\n",
       "    <tr style=\"text-align: right;\">\n",
       "      <th></th>\n",
       "      <th>Title</th>\n",
       "      <th>PUBCHEM_OPENEYE_CAN_SMILES</th>\n",
       "      <th>Molecule</th>\n",
       "      <th>MaxAbsEStateIndex</th>\n",
       "      <th>MaxEStateIndex</th>\n",
       "      <th>MinAbsEStateIndex</th>\n",
       "      <th>MinEStateIndex</th>\n",
       "      <th>qed</th>\n",
       "      <th>SPS</th>\n",
       "      <th>MolWt</th>\n",
       "      <th>...</th>\n",
       "      <th>fr_sulfide</th>\n",
       "      <th>fr_sulfonamd</th>\n",
       "      <th>fr_sulfone</th>\n",
       "      <th>fr_term_acetylene</th>\n",
       "      <th>fr_tetrazole</th>\n",
       "      <th>fr_thiazole</th>\n",
       "      <th>fr_thiocyan</th>\n",
       "      <th>fr_thiophene</th>\n",
       "      <th>fr_unbrch_alkane</th>\n",
       "      <th>fr_urea</th>\n",
       "    </tr>\n",
       "  </thead>\n",
       "  <tbody>\n",
       "    <tr>\n",
       "      <th>0</th>\n",
       "      <td>10151874</td>\n",
       "      <td>C1=C2C3=C(C(=C1O)O)OC(=O)C4=CC(=C(C(=C43)OC2=O...</td>\n",
       "      <td>&lt;rdkit.Chem.rdchem.Mol object at 0x0000025F752...</td>\n",
       "      <td>12.628551</td>\n",
       "      <td>12.628551</td>\n",
       "      <td>0.158009</td>\n",
       "      <td>-1.695297</td>\n",
       "      <td>0.114047</td>\n",
       "      <td>11.529412</td>\n",
       "      <td>470.298</td>\n",
       "      <td>...</td>\n",
       "      <td>0</td>\n",
       "      <td>0</td>\n",
       "      <td>0</td>\n",
       "      <td>0</td>\n",
       "      <td>0</td>\n",
       "      <td>0</td>\n",
       "      <td>0</td>\n",
       "      <td>0</td>\n",
       "      <td>0</td>\n",
       "      <td>0</td>\n",
       "    </tr>\n",
       "    <tr>\n",
       "      <th>1</th>\n",
       "      <td>5281643</td>\n",
       "      <td>C1=CC(=C(C=C1C2=C(C(=O)C3=C(C=C(C=C3O2)O)O)OC4...</td>\n",
       "      <td>&lt;rdkit.Chem.rdchem.Mol object at 0x0000025F752...</td>\n",
       "      <td>13.246917</td>\n",
       "      <td>13.246917</td>\n",
       "      <td>0.020114</td>\n",
       "      <td>-1.854276</td>\n",
       "      <td>0.228875</td>\n",
       "      <td>25.272727</td>\n",
       "      <td>464.379</td>\n",
       "      <td>...</td>\n",
       "      <td>0</td>\n",
       "      <td>0</td>\n",
       "      <td>0</td>\n",
       "      <td>0</td>\n",
       "      <td>0</td>\n",
       "      <td>0</td>\n",
       "      <td>0</td>\n",
       "      <td>0</td>\n",
       "      <td>0</td>\n",
       "      <td>0</td>\n",
       "    </tr>\n",
       "    <tr>\n",
       "      <th>2</th>\n",
       "      <td>3332212</td>\n",
       "      <td>C1=C(C=C(C(=C1O)O)O)C(=O)OCC2C(C(C(C(O2)OC(=O)...</td>\n",
       "      <td>&lt;rdkit.Chem.rdchem.Mol object at 0x0000025F752...</td>\n",
       "      <td>12.297021</td>\n",
       "      <td>12.297021</td>\n",
       "      <td>0.380921</td>\n",
       "      <td>-1.947960</td>\n",
       "      <td>0.177667</td>\n",
       "      <td>24.382353</td>\n",
       "      <td>484.366</td>\n",
       "      <td>...</td>\n",
       "      <td>0</td>\n",
       "      <td>0</td>\n",
       "      <td>0</td>\n",
       "      <td>0</td>\n",
       "      <td>0</td>\n",
       "      <td>0</td>\n",
       "      <td>0</td>\n",
       "      <td>0</td>\n",
       "      <td>0</td>\n",
       "      <td>0</td>\n",
       "    </tr>\n",
       "    <tr>\n",
       "      <th>3</th>\n",
       "      <td>689043</td>\n",
       "      <td>C1=CC(=C(C=C1C=CC(=O)O)O)O</td>\n",
       "      <td>&lt;rdkit.Chem.rdchem.Mol object at 0x0000025F752...</td>\n",
       "      <td>10.125799</td>\n",
       "      <td>10.125799</td>\n",
       "      <td>0.229190</td>\n",
       "      <td>-1.062440</td>\n",
       "      <td>0.471621</td>\n",
       "      <td>10.461538</td>\n",
       "      <td>180.159</td>\n",
       "      <td>...</td>\n",
       "      <td>0</td>\n",
       "      <td>0</td>\n",
       "      <td>0</td>\n",
       "      <td>0</td>\n",
       "      <td>0</td>\n",
       "      <td>0</td>\n",
       "      <td>0</td>\n",
       "      <td>0</td>\n",
       "      <td>0</td>\n",
       "      <td>0</td>\n",
       "    </tr>\n",
       "  </tbody>\n",
       "</table>\n",
       "<p>4 rows × 220 columns</p>\n",
       "</div>"
      ]
     },
     "execution_count": 96,
     "metadata": {},
     "output_type": "execute_result"
    }
   ],
   "execution_count": 96
  },
  {
   "cell_type": "code",
   "id": "66f84324",
   "metadata": {
    "ExecuteTime": {
     "end_time": "2025-04-22T01:01:14.686132Z",
     "start_time": "2025-04-22T01:01:14.677708Z"
    }
   },
   "source": [
    "data_test = data_with_descriptors[[\"qed\", \"MinPartialCharge\",  \"MaxPartialCharge\", \"NumHAcceptors\", \"NumHDonors\", \"RingCount\" ,\"MolLogP\", \"fr_halogen\", \"fr_benzene\" ,\"BertzCT\"]]\n"
   ],
   "outputs": [],
   "execution_count": 97
  },
  {
   "cell_type": "code",
   "id": "c88a4343",
   "metadata": {
    "ExecuteTime": {
     "end_time": "2025-04-22T01:01:14.723683Z",
     "start_time": "2025-04-22T01:01:14.691383Z"
    }
   },
   "source": [
    "data_test"
   ],
   "outputs": [
    {
     "data": {
      "text/plain": [
       "        qed  MinPartialCharge  MaxPartialCharge  NumHAcceptors  NumHDonors  \\\n",
       "0  0.114047         -0.504143          0.344106             12           7   \n",
       "1  0.228875         -0.507678          0.238633             12           8   \n",
       "2  0.177667         -0.504144          0.340315             14           9   \n",
       "3  0.471621         -0.504260          0.327821              3           3   \n",
       "\n",
       "   RingCount  MolLogP  fr_halogen  fr_benzene      BertzCT  \n",
       "0          5   2.2145           0           3  1776.538052  \n",
       "1          4  -0.5389           0           2  1218.997388  \n",
       "2          3  -1.2584           0           2  1017.431277  \n",
       "3          1   1.1956           0           1   343.055985  "
      ],
      "text/html": [
       "<div>\n",
       "<style scoped>\n",
       "    .dataframe tbody tr th:only-of-type {\n",
       "        vertical-align: middle;\n",
       "    }\n",
       "\n",
       "    .dataframe tbody tr th {\n",
       "        vertical-align: top;\n",
       "    }\n",
       "\n",
       "    .dataframe thead th {\n",
       "        text-align: right;\n",
       "    }\n",
       "</style>\n",
       "<table border=\"1\" class=\"dataframe\">\n",
       "  <thead>\n",
       "    <tr style=\"text-align: right;\">\n",
       "      <th></th>\n",
       "      <th>qed</th>\n",
       "      <th>MinPartialCharge</th>\n",
       "      <th>MaxPartialCharge</th>\n",
       "      <th>NumHAcceptors</th>\n",
       "      <th>NumHDonors</th>\n",
       "      <th>RingCount</th>\n",
       "      <th>MolLogP</th>\n",
       "      <th>fr_halogen</th>\n",
       "      <th>fr_benzene</th>\n",
       "      <th>BertzCT</th>\n",
       "    </tr>\n",
       "  </thead>\n",
       "  <tbody>\n",
       "    <tr>\n",
       "      <th>0</th>\n",
       "      <td>0.114047</td>\n",
       "      <td>-0.504143</td>\n",
       "      <td>0.344106</td>\n",
       "      <td>12</td>\n",
       "      <td>7</td>\n",
       "      <td>5</td>\n",
       "      <td>2.2145</td>\n",
       "      <td>0</td>\n",
       "      <td>3</td>\n",
       "      <td>1776.538052</td>\n",
       "    </tr>\n",
       "    <tr>\n",
       "      <th>1</th>\n",
       "      <td>0.228875</td>\n",
       "      <td>-0.507678</td>\n",
       "      <td>0.238633</td>\n",
       "      <td>12</td>\n",
       "      <td>8</td>\n",
       "      <td>4</td>\n",
       "      <td>-0.5389</td>\n",
       "      <td>0</td>\n",
       "      <td>2</td>\n",
       "      <td>1218.997388</td>\n",
       "    </tr>\n",
       "    <tr>\n",
       "      <th>2</th>\n",
       "      <td>0.177667</td>\n",
       "      <td>-0.504144</td>\n",
       "      <td>0.340315</td>\n",
       "      <td>14</td>\n",
       "      <td>9</td>\n",
       "      <td>3</td>\n",
       "      <td>-1.2584</td>\n",
       "      <td>0</td>\n",
       "      <td>2</td>\n",
       "      <td>1017.431277</td>\n",
       "    </tr>\n",
       "    <tr>\n",
       "      <th>3</th>\n",
       "      <td>0.471621</td>\n",
       "      <td>-0.504260</td>\n",
       "      <td>0.327821</td>\n",
       "      <td>3</td>\n",
       "      <td>3</td>\n",
       "      <td>1</td>\n",
       "      <td>1.1956</td>\n",
       "      <td>0</td>\n",
       "      <td>1</td>\n",
       "      <td>343.055985</td>\n",
       "    </tr>\n",
       "  </tbody>\n",
       "</table>\n",
       "</div>"
      ]
     },
     "execution_count": 98,
     "metadata": {},
     "output_type": "execute_result"
    }
   ],
   "execution_count": 98
  },
  {
   "cell_type": "code",
   "id": "35d3825b",
   "metadata": {
    "ExecuteTime": {
     "end_time": "2025-04-22T01:01:14.764862Z",
     "start_time": "2025-04-22T01:01:14.726884Z"
    }
   },
   "source": [
    "predictions_data=model.predict(data_test)"
   ],
   "outputs": [],
   "execution_count": 99
  },
  {
   "cell_type": "code",
   "id": "535a2878",
   "metadata": {
    "ExecuteTime": {
     "end_time": "2025-04-22T01:01:14.778995Z",
     "start_time": "2025-04-22T01:01:14.767719Z"
    }
   },
   "source": [
    "for title, prediction in zip(data['Title'], predictions_data):\n",
    "    print(title, '\\t', prediction)\n"
   ],
   "outputs": [
    {
     "name": "stdout",
     "output_type": "stream",
     "text": [
      "10151874 \t 6.245716666666666\n",
      "5281643 \t 6.380616666666666\n",
      "3332212 \t 5.602000000000007\n",
      "689043 \t 4.993774999999997\n"
     ]
    }
   ],
   "execution_count": 100
  }
 ],
 "metadata": {
  "kernelspec": {
   "display_name": "project_env",
   "language": "python",
   "name": "python3"
  },
  "language_info": {
   "codemirror_mode": {
    "name": "ipython",
    "version": 3
   },
   "file_extension": ".py",
   "mimetype": "text/x-python",
   "name": "python",
   "nbconvert_exporter": "python",
   "pygments_lexer": "ipython3",
   "version": "3.12.3"
  }
 },
 "nbformat": 4,
 "nbformat_minor": 5
}
